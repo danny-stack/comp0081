{
 "cells": [
  {
   "cell_type": "markdown",
   "metadata": {},
   "source": [
    "<h3>TODO</h3> \n",
    "Fill in any place that says <code># YOUR CODE HERE</code> (make sure to remove the line <code>raise NotImplementedError()</code>).\n",
    "\n",
    "<h3>Suggestions</h3>\n",
    "\n",
    "- To speed up your code, think about how certain operations can be done at the same time.\n",
    "- Before you turn this problem in, make sure everything runs as expected. First, **restart the kernel** (in the menubar, select Kernel$\\rightarrow$Restart) and then **run all cells** (in the menubar, select Cell$\\rightarrow$Run All).\n",
    "- Double check your code does not have $\\infty$-loops, these will crash the autograder.\n",
    "\n",
    "<h3>Rules</h3>\n",
    "\n",
    "- Blank cells in the notebook are hidden tests. **Do not delete, copy, paste, or alter these cells as this will cause the tests to fail automatically**.\n",
    "- Do not create multiple python notebooks (.ipynb files).\n",
    "- Do not import any new python packages (this may cause hidden tests to fail).\n",
    "- Each cell must run for less than 5 minutes (there exists a solution with full marks).\n",
    "- **Do not plagiarise!** We take violations of this very seriously. In previous years we have identified instances of plagiarism and reported them to the Senior Teaching & Learning Administrator.\n",
    "- If you are happy with your current grade you do not need to resubmit, the most recent grade from the autograder will be your final grade."
   ]
  },
  {
   "cell_type": "markdown",
   "metadata": {},
   "source": [
    "---"
   ]
  },
  {
   "cell_type": "markdown",
   "metadata": {
    "deletable": false,
    "editable": false,
    "nbgrader": {
     "cell_type": "markdown",
     "checksum": "2e682f102a98d335715990329747a9b1",
     "grade": false,
     "grade_id": "cell-22c9f752a48d4d97",
     "locked": true,
     "schema_version": 3,
     "solution": false,
     "task": false
    }
   },
   "source": [
    "<h2>Coursework 1 - Decision Trees</h2>\n",
    "\n",
    "\n",
    "<!--announcements-->\n",
    "<blockquote>\n",
    "    <center>\n",
    "    <img src=\"forest.jpg\" width=\"400px\" />\n",
    "    </center>\n",
    "      <p><cite><center>Boosting took a long time to be truly understood.<br>\n",
    "      ... cynics say we didn't see the forest for all the trees ...<br>\n",
    "      </center></cite></p>\n",
    "</blockquote>\n",
    "\n",
    "<!--announcements-->\n",
    "\n",
    "\n"
   ]
  },
  {
   "cell_type": "markdown",
   "metadata": {
    "deletable": false,
    "editable": false,
    "nbgrader": {
     "cell_type": "markdown",
     "checksum": "6983169efeddeb4c9fa8953ac12e71b4",
     "grade": false,
     "grade_id": "cell-bcc26f0f420117c7",
     "locked": true,
     "schema_version": 3,
     "solution": false,
     "task": false
    }
   },
   "source": [
    "\n",
    "\n",
    "<h3>Introduction</h3>\n",
    "<p>In this assignment you will implement a decision tree algorithm and then use it for bagging and boosting. We've provided a tree structure for you with distinct leaves and nodes. Leaves have two fields, parent (another node) and prediction (a numerical value). Nodes have six fields: \n",
    "\n",
    "<ol>\n",
    "<li> <b>left</b>: node describing left subtree </li>\n",
    "<li> <b>right</b>: node describing right subtree </li>\n",
    "<li> <b>parent</b>: the parent of the current subtree. The head of the tree always has <code><b>None</b></code> as its parent. Feel free to initialize nodes with this field set to <code><b>None</b></code> so long as you set the correct parent later on. </li>\n",
    "<li> <b>cutoff_id</b>: index of feature to cut </li>\n",
    "<li> <b>cutoff_val</b>: cutoff value c (<=c : left, and >c : right)</li>\n",
    "<li> <b>prediction</b>: scalar prediction at this node. <b>(NOTE: please do not check if a node is a leaf by checking for prediction=None, this will mess up autograder tests!)</b>  </li>\n",
    "</ol>\n",
    "</p>\n",
    "\n",
    "\n",
    "        "
   ]
  },
  {
   "cell_type": "code",
   "execution_count": 1,
   "metadata": {
    "deletable": false,
    "editable": false,
    "nbgrader": {
     "cell_type": "code",
     "checksum": "e33c3f0e4df2515d2e430f6e091ed32c",
     "grade": false,
     "grade_id": "cell-57d7072a148c2070",
     "locked": true,
     "schema_version": 3,
     "solution": false,
     "task": false
    }
   },
   "outputs": [],
   "source": [
    "class TreeNode(object):\n",
    "    \"\"\"Tree class.\n",
    "    \n",
    "    (You don't need to add any methods or fields here but feel\n",
    "    free to if you like. Our tests will only reference the fields\n",
    "    defined in the constructor below, so be sure to set these\n",
    "    correctly!)\n",
    "    \"\"\"\n",
    "    \n",
    "    def __init__(self, left, right, parent, cutoff_id, cutoff_val, prediction):\n",
    "        self.left = left\n",
    "        self.right = right\n",
    "        self.parent = parent\n",
    "        self.cutoff_id = cutoff_id\n",
    "        self.cutoff_val = cutoff_val\n",
    "        self.prediction = prediction"
   ]
  },
  {
   "cell_type": "markdown",
   "metadata": {
    "deletable": false,
    "editable": false,
    "nbgrader": {
     "cell_type": "markdown",
     "checksum": "acb161f68b896c18396ede3d71d41f10",
     "grade": false,
     "grade_id": "cell-c05aa5bde6395c94",
     "locked": true,
     "schema_version": 3,
     "solution": false,
     "task": false
    }
   },
   "source": [
    "<h3>Implementing CART</h3>\n",
    "Before we get started let us add a few packages that you might need. We will also load a data set <a href=\"https://archive.ics.uci.edu/ml/datasets/Ionosphere\">ION</a>, which we will use as our binary test classification problem."
   ]
  },
  {
   "cell_type": "code",
   "execution_count": 2,
   "metadata": {
    "deletable": false,
    "editable": false,
    "nbgrader": {
     "cell_type": "code",
     "checksum": "1e757c039191bf7c18b2d69786dcde81",
     "grade": false,
     "grade_id": "cell-ba718a0ce824c1df",
     "locked": true,
     "schema_version": 3,
     "solution": false,
     "task": false
    }
   },
   "outputs": [
    {
     "data": {
      "text/plain": [
       "((281, 34), (281,), (70, 34), (70,))"
      ]
     },
     "execution_count": 2,
     "metadata": {},
     "output_type": "execute_result"
    }
   ],
   "source": [
    "%matplotlib widget\n",
    "import numpy as np\n",
    "import math\n",
    "from numpy.matlib import repmat\n",
    "import sys\n",
    "import matplotlib \n",
    "import matplotlib.pyplot as plt\n",
    "from scipy.io import loadmat\n",
    "import time\n",
    "import os\n",
    "import warnings\n",
    "sys.path.append('')\n",
    "warnings.filterwarnings(\"ignore\", category=DeprecationWarning) \n",
    "\n",
    "\n",
    "# load in some binary test data (labels are -1, +1)\n",
    "data = loadmat(\"./ion.mat\")\n",
    "xTrIon  = data['xTr'].T\n",
    "yTrIon  = data['yTr'].flatten()\n",
    "xTeIon  = data['xTe'].T\n",
    "yTeIon  = data['yTe'].flatten()\n",
    "\n",
    "xTrIon.shape, yTrIon.shape, xTeIon.shape, yTeIon.shape"
   ]
  },
  {
   "cell_type": "code",
   "execution_count": 77,
   "metadata": {
    "deletable": false,
    "editable": false,
    "nbgrader": {
     "cell_type": "code",
     "checksum": "cbdab1651e0c61c5e9076e59792a3a46",
     "grade": false,
     "grade_id": "cell-ba17001a88a8255d",
     "locked": true,
     "schema_version": 3,
     "solution": false,
     "task": false
    }
   },
   "outputs": [],
   "source": [
    "def spiraldata(N=300):\n",
    "    r = np.linspace(1,2*np.pi,N)\n",
    "    xTr1 = np.array([np.sin(2.*r)*r, np.cos(2*r)*r]).T\n",
    "    xTr2 = np.array([np.sin(2.*r+np.pi)*r, np.cos(2*r+np.pi)*r]).T\n",
    "    xTr = np.concatenate([xTr1, xTr2], axis=0)\n",
    "    yTr = np.concatenate([np.ones(N), -1 * np.ones(N)])\n",
    "    xTr = xTr + np.random.randn(xTr.shape[0], xTr.shape[1])*0.2\n",
    "    \n",
    "    xTe = xTr[::2,:]\n",
    "    yTe = yTr[::2]\n",
    "    xTr = xTr[1::2,:]\n",
    "    yTr = yTr[1::2]\n",
    "    \n",
    "    return xTr,yTr,xTe,yTe\n",
    "\n",
    "xTrSpiral,yTrSpiral,xTeSpiral,yTeSpiral=spiraldata(150)"
   ]
  },
  {
   "cell_type": "markdown",
   "metadata": {
    "deletable": false,
    "editable": false,
    "nbgrader": {
     "cell_type": "markdown",
     "checksum": "ff88429982d6d7a35bbb8469a9aa11eb",
     "grade": false,
     "grade_id": "cell-b8289ddc9797f690",
     "locked": true,
     "schema_version": 3,
     "solution": false,
     "task": false
    }
   },
   "source": [
    "<h3> Efficiently implementing regression trees </h3>\n",
    "<p>First, implement the function <code>sqsplit</code> which takes as input a (weighted) data set with labels and computes the best feature and cut-value of an optimal split based on minimum squared error. The third input is a weight vector which assigns a positive weight to each training sample. The loss you should minimize is the averaged weighted squared-loss:\n",
    "$$\n",
    "\t{\\cal L}(S)=\\sum_{i \\in L} {w_{i}(y_{i} - T_{L})}^2+\\sum_{i \\in R} {w_{i}(y_{i} - T_{R})}^2. %\\label{q2:loss}\n",
    "$$\n",
    "</p>\n",
    "You are building a regression tree, and right now you need to choose a split for the given dataset $S=\\{(\\vec x_1,y_1),\\dots,(\\vec x_n,y_n)\\}$ (where we have continuous labels $y_i\\in{\\cal R}$).\n",
    "Suppose you split on some feature $j$ with value $c$ and partition the dataset in to two sets of indices, $L$--the set of indices on the left (i.e., $i \\in L \\Rightarrow [x_{i}]_{j} < c$)--and $R$--the set of indices on the right (i.e., $i \\in R \\Rightarrow [x_{i}]_{j} > c$). Suppose you assign every data point on the left the prediction $T_{L}$ and every data point on the right the prediction $T_{R}$. Finally, suppose that each data point $x_{i}$ has an associated weight $w_{i}$, and that the weights are normalized (i.e., $\\sum_{i} w_{i} = 1$). \n",
    "\n",
    "\n",
    "<p> First, we show that setting $T_{L}$ and $T_{R}$ to the weighted average label over their respective sets (i.e., $T_{L} = \\frac{1}{W_{L}}\\sum_{i\\in L}w_{i}y_{i}$ and $T_{R} = \\frac{1}{W_{R}}\\sum_{i\\in R}w_{i}y_{i}$) minimizes the loss $\\cal L$, where $W_{L}=\\sum_{i \\in L}w_{i}$ and $W_{R}=\\sum_{i \\in R} w_{i}$ are the total weight of the left and right side respectively.\n",
    "\n",
    "<p> We take the derivative of the loss with respect to $T_{L}$ to obtain $$\\frac{d}{dT_{L}} {\\cal L}(S) = -2\\sum_{i \\in L}w_{i}(y_i - T_L)=-2\\sum_{i\\in L}w_iy_i + 2T_{L}\\sum_{i}w_{i}$$ Setting this equal to zero and solving, we get $$2T_{L}w_{L}=2\\sum_{i \\in L}w_{i}y_{i}$$ and therefore $$T_{L} = \\frac{1}{W_{L}}\\sum_{i \\in L}w_{i}y_{i}$$ A symmetric argument holds for $T_{R}$.</p>\n",
    "\n",
    "<p> Now, imagine you are considering splitting on some feature $j$, and suppose you have already sorted the training points in the order of this feature value, so that $[x_{1}]_{j} < [x_{2}]_{j} < \\cdots < [x_{n}]_{j}$. You'd like to choose a split from among $c_{1} \\leq c_{2} \\leq \\cdots \\leq c_{n-1}$, where $c_{i}=\\frac{[x_{i}]_{j}+[x_{i+1}]_{j}}{2}$. One way to do this would be to, for each possible split $c_{k}$, decide whether each $x_{i}$ should be partitioned left or right, and compute $\\cal L$. At the end, take the split with the lowest loss. The number of data points $n$ and there are $O(n)$ splits to consider, and the proposed algorithm would require $O(n)$ per split to evaluate $\\cal L$, for a total of $O(n^2)$ time.\n",
    "\n",
    "<p> Now, suppose some split $c_{k}$ results in the data being partitioned in to $L^{(k)}$ and $R^{(k)}$. Suppose you are given the following quantities precomputed: $W_{L^{(k)}}$, $P_{L^{(k)}} = \\sum_{i \\in L} w_{i}y_{i}$, and $Q_{L^{(k)}} = \\sum_{i \\in L} w_{i}y_{i}^{2}$. Similarly, you are given $W_{R^{(k)}}$, $P_{R^{(k)}}$ and $Q_{R^{(k)}}$ Equipped with these precomputed quantities, we can compute $\\cal L$ in constant time:\n",
    "\n",
    "<p>Expand the left side of the loss to $$\\sum_{i \\in L}w_{i}y_{i}^{2} - 2\\sum_{i \\in L}w_{i}y_{i}T_{L} + \\sum_{i \\in L}w_{i}T_{L}^{2}$$. The first term is exactly $Q_{L^{(k)}}$. The second term can be written as $-2P_{L^{(k)}}\\frac{P_{L^{(k)}}}{W_{L^{(k)}}}=-2\\frac{P_{L^{(k)}}^{2}}{w_{L^{(k)}}}$. The last term can be written as $w_{L^{(k)}}\\frac{P_{L^{(k)}}^{2}}{w_{L^{(k)}}^{2}}=\\frac{P_{L^{(k)}}^{2}}{w_{L^{(k)}}}$. The second term plus the third term is therefore simply $-\\frac{P_{L^{(k)}}^{2}}{w_{L^{(k)}}}$. Therefore the whole expression can be evaluated as: $$Q_{L^{(k)}}-\\frac{P_{L^{(k)}}^{2}}{w_{L^{(k)}}}$$ Similarly, the right term is: $$Q_{R^{(k)}}-\\frac{P_{R^{(k)}}^{2}}{w_{R^{(k)}}}$$</p>\n",
    "\n",
    "<p> <b> Efficent Update Rule: </b> If all feature values are distinct, only one data point moves from $R$ to $L$ when moving from split $k$ to split $k+1$. Therefore, we simply update the values accordingly. For example, we subtract $w_{k}$ from $W_{R^{(k)}}$ and add it to $W_{L^{(k)}}$. We subtract $w_{k}y_{k}$ from $P_{R^{(k)}}$ and add it to $P_{L^{(k)}}$. We subtract $w_{k}y_{k}^{2}$ from $Q_{R^{(k)}}$ and add it to $Q_{L^{(k)}}$. Crucially, all of these updates take only constant time. </p>"
   ]
  },
  {
   "cell_type": "code",
   "execution_count": 18,
   "metadata": {
    "deletable": false,
    "nbgrader": {
     "cell_type": "code",
     "checksum": "ca816a49a7c739efa38e5858b6f3b143",
     "grade": false,
     "grade_id": "cell-812f4d4ed0980f9d",
     "locked": false,
     "schema_version": 3,
     "solution": true,
     "task": false
    }
   },
   "outputs": [],
   "source": [
    "def sqsplit(xTr,yTr,weights=None):\n",
    "    \"\"\"Finds the best feature, cut value, and loss value.\n",
    "    \n",
    "    Input:\n",
    "        xTr:     n x d matrix of data points\n",
    "        yTr:     n-dimensional vector of labels\n",
    "        weights: n-dimensional weight vector for data points\n",
    "    \n",
    "    Output:\n",
    "        feature:  index of the best cut's feature\n",
    "        cut:      cut-value of the best cut\n",
    "        bestloss: loss of the best cut\n",
    "    \"\"\"\n",
    "    N,D = xTr.shape\n",
    "    assert D > 0 # must have at least one dimension\n",
    "    assert N > 1 # must have at least two samples\n",
    "    if weights is None: # if no weights are passed on, assign uniform weights\n",
    "        weights = np.ones(N)\n",
    "    weights = weights / np.sum(weights) # Weights need to sum to one (we just normalize them)\n",
    "    bestloss = np.inf\n",
    "    feature = np.inf\n",
    "    cut = np.inf\n",
    "    \n",
    "    for j in range(D):\n",
    "\n",
    "        X = xTr[:,j]\n",
    "        Y = yTr\n",
    "        sorted_idx = np.argsort(X)\n",
    "        X_sorted, Y_sorted = X[sorted_idx], Y[sorted_idx]\n",
    "        sorted_weights = weights[sorted_idx]\n",
    "\n",
    "        W_L = 0\n",
    "        P_L = 0\n",
    "        Q_L = 0\n",
    "        W_R = np.sum(sorted_weights)\n",
    "        P_R = np.sum(sorted_weights * Y_sorted)\n",
    "        Q_R = np.sum(sorted_weights * (Y_sorted ** 2))\n",
    "\n",
    "        for i in range(N - 1):\n",
    "\n",
    "            w = sorted_weights[i]\n",
    "            y = Y_sorted[i]\n",
    "            W_L += w\n",
    "            W_R -= w\n",
    "            P_L += w * y\n",
    "            P_R -= w * y\n",
    "            Q_L += w * (y ** 2)\n",
    "            Q_R -= w * (y ** 2)\n",
    "\n",
    "            if X_sorted[i] == X_sorted[i + 1]:\n",
    "                continue\n",
    "            \n",
    "            candidate_split = (X_sorted[i] + X_sorted[i + 1]) / 2  # Midpoint \n",
    "\n",
    "            if W_L == 0:\n",
    "                loss_L = 0\n",
    "            else:\n",
    "                loss_L = Q_L  - (P_L ** 2) / W_L\n",
    "\n",
    "            if W_R == 0:\n",
    "                loss_R = 0\n",
    "            else:\n",
    "                loss_R = Q_R  - (P_R ** 2) / W_R\n",
    "\n",
    "            loss = loss_L + loss_R\n",
    "\n",
    "            if loss < bestloss:\n",
    "                bestloss = loss\n",
    "                feature = j\n",
    "                cut = candidate_split   \n",
    "    \n",
    "    return feature, cut, bestloss"
   ]
  },
  {
   "cell_type": "code",
   "execution_count": 19,
   "metadata": {
    "deletable": false,
    "editable": false,
    "nbgrader": {
     "cell_type": "code",
     "checksum": "fb42ab3b03a8b62728d5c24af047c1a2",
     "grade": false,
     "grade_id": "cell-2afce21057bbdb09",
     "locked": true,
     "schema_version": 3,
     "solution": false,
     "task": false
    }
   },
   "outputs": [
    {
     "name": "stdout",
     "output_type": "stream",
     "text": [
      "elapsed time: 0.042276859283447266 seconds\n",
      "Split on feature 2 on value: 0.304\n",
      "NOTE: It should split on feature 2 on value 0.304\n"
     ]
    }
   ],
   "source": [
    "t0 = time.time()\n",
    "fid,cut,loss = sqsplit(xTrIon,yTrIon)\n",
    "t1 = time.time()\n",
    "print('elapsed time:',t1-t0,'seconds')\n",
    "print(\"Split on feature %i on value: %2.3f\" % (fid,cut))\n",
    "print(\"NOTE: It should split on feature 2 on value 0.304\")"
   ]
  },
  {
   "cell_type": "markdown",
   "metadata": {
    "deletable": false,
    "editable": false,
    "nbgrader": {
     "cell_type": "markdown",
     "checksum": "b450fbc9f0990f287aa976b353d5377e",
     "grade": false,
     "grade_id": "cell-30b62fba723fb04d",
     "locked": true,
     "schema_version": 3,
     "solution": false,
     "task": false
    }
   },
   "source": [
    "<h2>Testing Your Code</h2>\n",
    "\n",
    "<p>As your code will be tested by an autograder, <b>we highly recommend you test all of the code you implement</b> to make sure it works as you expect in both normal and abnormal use-cases. Below shows an example test for the sqsplit function. </p>"
   ]
  },
  {
   "cell_type": "code",
   "execution_count": 20,
   "metadata": {
    "deletable": false,
    "editable": false,
    "nbgrader": {
     "cell_type": "code",
     "checksum": "49b7bb4b7dcb07f98a3d5f6a04aab653",
     "grade": false,
     "grade_id": "cell-7e0a19890691b587",
     "locked": true,
     "schema_version": 3,
     "solution": false,
     "task": false
    }
   },
   "outputs": [
    {
     "name": "stdout",
     "output_type": "stream",
     "text": [
      "Function sqsplit correctly calculates bestloss on xor/yor example: True\n"
     ]
    }
   ],
   "source": [
    "# an example test\n",
    "xor = np.array([[1, 1, 1, 1, 0, 0, 0, 0],\n",
    "                 [1, 1, 0, 0, 1, 1, 0, 0],\n",
    "                 [1, 0, 1, 0, 1, 0, 1, 0]]).T\n",
    "yor = np.array( [1, 0, 0, 1, 0, 1, 1, 0])\n",
    "b = np.isclose(sqsplit(xor,yor)[2], .25)\n",
    "print('Function sqsplit correctly calculates bestloss on xor/yor example: ' + str(b))"
   ]
  },
  {
   "cell_type": "code",
   "execution_count": 21,
   "metadata": {},
   "outputs": [
    {
     "data": {
      "text/plain": [
       "0.25"
      ]
     },
     "execution_count": 21,
     "metadata": {},
     "output_type": "execute_result"
    }
   ],
   "source": [
    "sqsplit(xor,yor)[2]"
   ]
  },
  {
   "cell_type": "code",
   "execution_count": null,
   "metadata": {
    "deletable": false,
    "editable": false,
    "nbgrader": {
     "cell_type": "code",
     "checksum": "39112eabcd175877265e79f6f46e719a",
     "grade": true,
     "grade_id": "sqsplit_test1",
     "locked": true,
     "points": 5,
     "schema_version": 3,
     "solution": false,
     "task": false
    }
   },
   "outputs": [],
   "source": [
    "# Do not delete, copy, paste, or alter these cells as this will cause the tests to fail automatically"
   ]
  },
  {
   "cell_type": "markdown",
   "metadata": {
    "deletable": false,
    "editable": false,
    "nbgrader": {
     "cell_type": "markdown",
     "checksum": "b820a08e2b8919033e1902f729525fea",
     "grade": false,
     "grade_id": "cell-747473d0185a7d75",
     "locked": true,
     "schema_version": 3,
     "solution": false,
     "task": false
    }
   },
   "source": [
    "<b>Cart tree:</b><p>Implement the function <code>cart</code> which returns a regression tree based on the minimum squared loss splitting rule. The function takes training data, test data, a maximum depth, and the weigh of each training example. Maximum depth and weight are optional arguments. If they are not provided you should make maximum depth infinity and equally weight each example. You should use the function <code>sqsplit</code> to make your splits.</p>\n",
    "\n",
    "<p>Use the provided <code>TreeNode</code> class to represent your tree. Note that the nature of CART trees implies that every node has exactly 0 or 2 children.</p>\n"
   ]
  },
  {
   "cell_type": "code",
   "execution_count": 42,
   "metadata": {
    "deletable": false,
    "nbgrader": {
     "cell_type": "code",
     "checksum": "5527a56a8e4ded73266026512d9b835d",
     "grade": false,
     "grade_id": "cell-3d1c561cd988c041",
     "locked": false,
     "schema_version": 3,
     "solution": true,
     "task": false
    }
   },
   "outputs": [],
   "source": [
    "def cart(xTr, yTr, depth=np.inf, weights=None):\n",
    "    \"\"\"Builds a CART tree.\n",
    "    \n",
    "    The maximum tree depth is defined by \"maxdepth\" (maxdepth=2 means one split).\n",
    "    Each example can be weighted with \"weights\".\n",
    "\n",
    "    Args:\n",
    "        xTr:      n x d matrix of data\n",
    "        yTr:      n-dimensional vector\n",
    "        maxdepth: maximum tree depth\n",
    "        weights:  n-dimensional weight vector for data points\n",
    "\n",
    "    Returns:\n",
    "        tree: root of decision tree\n",
    "    \"\"\"\n",
    "    n, d = xTr.shape\n",
    "    if weights is None:\n",
    "        w = np.ones(n) / float(n)\n",
    "    else:\n",
    "        w = weights / np.sum(weights)  # Normalize weights\n",
    "    \n",
    "    # No split or one data point\n",
    "    if depth == 0 or len(np.unique(yTr)) == 1:\n",
    "        return TreeNode(None, None, None, None, None, np.mean(yTr))\n",
    "    \n",
    "    # Find the best split feature\n",
    "    feature, cut, bestloss = sqsplit(xTr, yTr, w)\n",
    "\n",
    "    # No best feature or either set is empty after the split\n",
    "    if np.isinf(feature):\n",
    "        return TreeNode(None, None, None, None, None, np.mean(yTr))\n",
    "    \n",
    "    # Split the data\n",
    "    left_idx = xTr[:, feature] <= cut\n",
    "    right_idx = xTr[:, feature] > cut\n",
    "\n",
    "    # Either set is empty\n",
    "    if np.sum(left_idx) == 0 or np.sum(right_idx) == 0:\n",
    "        return TreeNode(None, None, None, None, None, np.mean(yTr))\n",
    "    \n",
    "    # Create the subtrees recursively\n",
    "    left_subtree = None if depth <= 1 else cart(xTr[left_idx], yTr[left_idx], depth - 1, w[left_idx])\n",
    "    right_subtree = None if depth <= 1 else cart(xTr[right_idx], yTr[right_idx], depth - 1, w[right_idx])\n",
    "\n",
    "    # If depth is exactly 1, we create a leaf node with the prediction\n",
    "    if depth == 1:\n",
    "        prediction = np.mean(yTr)\n",
    "        return TreeNode(None, None, None, None, None, prediction)\n",
    "\n",
    "    return TreeNode(left_subtree, right_subtree, None, feature, cut, None)\n"
   ]
  },
  {
   "cell_type": "markdown",
   "metadata": {
    "deletable": false,
    "editable": false,
    "nbgrader": {
     "cell_type": "markdown",
     "checksum": "c50f31520ca9a59e7d68de15ab80e3f6",
     "grade": false,
     "grade_id": "cell-c0bad89ae412f3d1",
     "locked": true,
     "schema_version": 3,
     "solution": false,
     "task": false
    }
   },
   "source": [
    "<p>Implement the function <code>evaltree</code>, which evaluates a decision tree on a given test data set.</p>"
   ]
  },
  {
   "cell_type": "code",
   "execution_count": 47,
   "metadata": {
    "deletable": false,
    "nbgrader": {
     "cell_type": "code",
     "checksum": "719328b34225f0f9ccf4f094ad969f1c",
     "grade": false,
     "grade_id": "cell-3c4bbc7ba9f357d5",
     "locked": false,
     "schema_version": 3,
     "solution": true,
     "task": false
    }
   },
   "outputs": [],
   "source": [
    "def evaltree(root,xTe):\n",
    "    \"\"\"Evaluates xTe using decision tree root.\n",
    "    \n",
    "    Input:\n",
    "        root: TreeNode decision tree\n",
    "        xTe:  n x d matrix of data points\n",
    "    \n",
    "    Output:\n",
    "        pred: n-dimensional vector of predictions\n",
    "    \"\"\"\n",
    "    assert root is not None\n",
    "    \n",
    "    # YOUR CODE HERE\n",
    "    def traverse(node, x):\n",
    "        # Iteratively traverse the tree until a leaf node is reached\n",
    "        while node.cutoff_id is not None:\n",
    "            if x[node.cutoff_id] <= node.cutoff_val:\n",
    "                if node.left is not None:\n",
    "                    node = node.left\n",
    "                else:\n",
    "                    return node.prediction\n",
    "            else:\n",
    "                if node.right is not None:\n",
    "                    node = node.right\n",
    "                else:\n",
    "                    return node.prediction\n",
    "        return node.prediction\n",
    "\n",
    "    # Apply traversal for each data point in xTe\n",
    "    n = xTe.shape[0]\n",
    "    pred = np.zeros(n)\n",
    "    for i in range(n):\n",
    "        pred[i] = traverse(root, xTe[i])\n",
    "    \n",
    "    return pred\n",
    "    "
   ]
  },
  {
   "cell_type": "markdown",
   "metadata": {
    "deletable": false,
    "editable": false,
    "nbgrader": {
     "cell_type": "markdown",
     "checksum": "ce244cbef628fbe6a7045a882c263dfe",
     "grade": false,
     "grade_id": "cell-59837ef34f3d8973",
     "locked": true,
     "schema_version": 3,
     "solution": false,
     "task": false
    }
   },
   "source": [
    "<p>In the below test you should see an output very similar to the following: \n",
    "\n",
    "<code>elapsed time: 0.65 seconds\n",
    "Training RMSE : 0.00\n",
    "Testing  RMSE : 0.69\n",
    "</code>\n",
    "\n",
    "(<code>elapsed time</code> will be slightly different)\n",
    "</p>"
   ]
  },
  {
   "cell_type": "code",
   "execution_count": 138,
   "metadata": {
    "deletable": false,
    "editable": false,
    "nbgrader": {
     "cell_type": "code",
     "checksum": "9a05362b379de72ec25fb6e0fc7efa13",
     "grade": false,
     "grade_id": "cell-49d4579bb2429635",
     "locked": true,
     "schema_version": 3,
     "solution": false,
     "task": false
    }
   },
   "outputs": [
    {
     "name": "stdout",
     "output_type": "stream",
     "text": [
      "elapsed time: 0.14 seconds\n",
      "Training RMSE : 0.00\n",
      "Testing  RMSE : 0.69\n"
     ]
    }
   ],
   "source": [
    "t0 = time.time()\n",
    "root = cart(xTrIon, yTrIon)\n",
    "t1 = time.time()\n",
    "\n",
    "tr_err   = np.mean((evaltree(root,xTrIon) - yTrIon)**2)\n",
    "te_err   = np.mean((evaltree(root,xTeIon) - yTeIon)**2)\n",
    "\n",
    "print(\"elapsed time: %.2f seconds\" % (t1-t0))\n",
    "print(\"Training RMSE : %.2f\" % tr_err)\n",
    "print(\"Testing  RMSE : %.2f\" % te_err)"
   ]
  },
  {
   "cell_type": "markdown",
   "metadata": {
    "deletable": false,
    "editable": false,
    "nbgrader": {
     "cell_type": "markdown",
     "checksum": "1581db60d6b0770249b79ae4bc8e640c",
     "grade": false,
     "grade_id": "cell-0a4ad9b8acc2afff",
     "locked": true,
     "schema_version": 3,
     "solution": false,
     "task": false
    }
   },
   "source": [
    "<p>The following code defines a function <code>visclassifier()</code>, which plots the decision boundary of a classifier in 2 dimensions. Execute the following code to see what the decision boundary of your tree looks like on the ion data set. </p>"
   ]
  },
  {
   "cell_type": "code",
   "execution_count": 78,
   "metadata": {
    "deletable": false,
    "editable": false,
    "nbgrader": {
     "cell_type": "code",
     "checksum": "649005c6d8d805ff147ef8edd6869f57",
     "grade": false,
     "grade_id": "cell-fc29736055ce2744",
     "locked": true,
     "schema_version": 3,
     "solution": false,
     "task": false
    }
   },
   "outputs": [
    {
     "data": {
      "application/vnd.jupyter.widget-view+json": {
       "model_id": "6511191706ad43eeaed9aae474b0344a",
       "version_major": 2,
       "version_minor": 0
      },
      "image/png": "[encoded data removed]",
      "text/html": [
       "\n",
       "            <div style=\"display: inline-block;\">\n",
       "                <div class=\"jupyter-widgets widget-label\" style=\"text-align: center;\">\n",
       "                    Figure\n",
       "                </div>\n",
       "                <img src='data:image/png;base64,iVBORw0KGgoAAAANSUhEUgAAAoAAAAHgCAYAAAA10dzkAAAAOXRFWHRTb2Z0d2FyZQBNYXRwbG90bGliIHZlcnNpb24zLjcuMiwgaHR0cHM6Ly9tYXRwbG90bGliLm9yZy8pXeV/AAAACXBIWXMAAA9hAAAPYQGoP6dpAABQM0lEQVR4nO3de3Scd33v+4+klBlH1gxKGqUJI8tyYNVbEAi5YIpxI6+miboDNXIcs5LIy0py0sI21MJ0lbjdC293s+p24Ra5KQ2Bc2y5Fg4I2yJAdmYnByJjLmlZZNMGRLx3jmVZci4O4MzIwpoEjc4f8iNrRnN5RvPMPJff+7WWFmj8aPSLxxp9n9/ve6mZmZmZEQAAAIxR6/YCAAAAUF0EgAAAAIYhAAQAADAMASAAAIBhCAABAAAMQwAIAABgGAJAAAAAwxAAAgAAGIYAEAAAwDAEgAAAAIYhAAQAADAMASAAAIBhCAABAAAMQwAIAABgGAJAAAAAwxAAAgAAGIYAEAAAwDAEgAAAAIYhAAQAADAMASAAAIBhCAABAAAMQwAIAABgGAJAAAAAwxAAAgAAGIYAEAAAwDAEgAAAAIYhAAQAADAMASAAAIBhCAABAAAMQwAIAABgGAJAAAAAwxAAAgAAGIYAEAAAwDAEgAAAAIYhAAQAADAMASAAAIBhCAABAAAMQwAIAABgGAJAAAAAwxAAAgAAGIYAEAAAwDAEgAAAAIYhAAQAADAMASAAAIBhCAABAAAMQwAIAABgGAJAAAAAwxAAAgAAGIYAEAAAwDAEgAAAAIYhAAQAADAMASAAAIBhCAABAAAMQwAIAABgGAJAAAAAwxAAAgAAGOYStxfgZ+l0Wi+++KIaGhpUU1Pj9nIAAIANMzMzmpiY0NVXX63aWjP3wggAy/Diiy+qubnZ7WUAAIBFGBsbUywWc3sZriAALENDQ4MkaewTn1AkFHJ5Nai0Xdqu7dqlXdru9lI0Pv6v6u+/de7zJ7u6tMrQN7FKsfM6b9cujSeTuv3gQZ187bW5x5e/+c16/O67dSCyq4IrBLBYqVRSn/tc89zvcRMZHQCePn1an/rUp/TEE0/o17/+td761rdq3759uvHGG219vXXsGwmFFAmHK7lUeEBYEUUUVlgRV9eRSIzp8cc/kvHYRx5/XEPd3WqORl1aVX6JqSlNpFKK5VjbeCKhhlBIUQ/+/Nh5nROJlD746KM6+dprWtHYqAOdndo0OKgTZ8/qg48+qnXdDyoa5ZQA8CqT07fMPPiWdPbsWa1evVq/9Vu/pSeeeELDw8P6+7//ezU2Nrq9NCCvRGJMfX3tOnv2hFY0Nur7992nFY2NOnH2rNr7+jSWSLi9xAyJqSl19Pfr5hxrG0skdHNfnzr6+5WYmnJphYuXSIyrva9PJ86e1YrGRg11d+t9y5ZpqLt77jXp62tXIjHu9lIBYAFjA8C/+7u/U3Nzs/bt26f3vOc9am1t1a233qprrrnG7aUBOSUS43PBX2PjipwBR3tfn8Y9FAROpFI6Mzm5IEAdSyTmgqczk5OaSKVcXmnpQqEGNdXXzwV/1u5rczQ695rU1zcpFDL3iAmAdxkbAH7jG9/QjTfeqDvvvFNNTU1697vfrS996UsFvyaVSimZTGZ8ANUSCjWovr5JjY0r1N09lDPgaKqvV4OH8lFj89ZmBYE/OHVqwc5ZruNhrwuHo4p3delojqP35mhUR7u71dUVVzjsv/82AMFnbAB44sQJPfzww3rb296m//k//6c++tGP6s/+7M+0f//+vF+za9cuRaPRuQ8qgFFN4XBUXV1xdXcfXZBXZgUc8a4uz+XTNWcFgav37s0I/ryYt2hXNBzOG7zGolGCPwCeZWwAmE6ndf311+tv/uZv9O53v1t/8id/ogceeEBf+MIX8n7N9u3blUgk5j7GxsaquGJgNgiMRnNX+8aiUc8Ff5bmaFQHOjszHjvQ2enr4A8A/MzYAPCqq65SW1tbxmP/6T/9J506dSrv14RCIUUikYwPAMWNJRLaNDiY8dimwUHPFa0AgCmMDQBXr16t48ePZzz2v//3/1ZLS4tLKwKCaX7Bhx8qlwHABMYGgJ/4xCf0zDPP6G/+5m/0wgsv6ODBg/riF7+oLVu2uL00IDDGs4I/P1QuA4AJjA0Ab7rpJg0ODurRRx/VO97xDv33//7f1dvbq3vuucftpQGB0RAKFW2V4rXKZQAwgdGTQD7wgQ/oAx/4gNvLAAIrGg4r3tWVcxKIVbns1UkgABBkRgeAACovGg7nDfD82P8PAILA2CNgAAAAUxEAAgAAGIYAEAAAwDAEgAAAAIYhAAQAADAMASCMkZiayttweDyRUGJqqsorAgDAHQSAMEJiakod/f26OcfosbFEQjf39amjv58gEABgBAJAGGEildKZyckF82fnz6k9MzmpiVTK5ZUCAFB5BIAwQmze6DErCPzBqVML5tTSmBgAYAICQBijOSsIXL13b0bw10zwBwAwBKPgYJTmaFQHOju1eu/euccOdHYS/Nm0UzvcXgIAwAEEgAiUxNSUJlKpnEe544mEEqmUNg0OZjy+aXCQHcAiCPwAIFg4AkZgFKv0Xb13r2545JG5Y9/v33dfRk5g9tcAABBUBIAIjEKVvu/fu1enEgmlpqe17EIu4PuWLVtQGJKvTyAAAEFCAIjAKFTpeyqRUKiuTsuiUX3vvvvmjnvnF4Y01derIRRy+b8CAIDKIwcQgWIFdFZ7F6vYY0Vjo75x112KhkIL8gObo1Ed7e5WQyikaDjsxrIBAKgqdgAROFal73wHOjv19qamvH3+YtEowR8AwBgEgAicsUQiZ6UvRR4AAMwiAESgzB/tRqUvAAC5EQAiMMazgj8qfQEAyI0AEIHREAqpqb5+wWg3Kn0BAMhEFTACIxoOK97VlXMSCJW+AABcRACIQImGw3kDvHwVwAiOdHpao6PHdO7cS1q69Cq1tKxRbW2d28sCAM8hAAQQCMPDRxSPb1UyOT73WCQSU0fHHrW1rXdxZQDgPeQAAvC94eEjGhjYkBH8SVIyeVoDAxs0PHyk6muaTqc1MjKk5557VCMjQ0qnp6u+BgDIhx1AAL6WTk8rHt8qaSbHn85IqlE83qOVK9eVfRycfcQ83ZJWXe3C++gjw8PaGo9rPPnXc4+xGwnASwgAAfja6OixBTt/mWaUTI5pdPSYWlvbF/19ch0xfzsS0Z6ODq1va5t77MjwsDYMDCwIR63dyI0bDxEEAnAdR8AASpZOT3vmePPcuZccvS6XfEfMp5NJbRgY0JHhYUmzx75b4/Gce5HWDmU83sNxMADXsQMIoCReK7ZYuvQqR6/LVuiIefaAWeqJx7Vu5UodGx3VeDJZ4Nmc2Y0EgHKxAwjANi8WW7S0rFEkEtNsKJZLjSKRZrW0rFnU8xc7Yp6RNJZM6tjoqF46d87Wc5azG+k0L+3mAqgedgAB2FLNYotS1NbWqaNjjwYGNmg2CJy/vtmgsKOjd9FrshusvXTunK5autTWtYvdjXSa13ZzAVQPO4CoiMTUVN6Zu+OJhBJTU1VeEcpVSrFFtbW1rdfGjYcUibwl4/FIJFZ20YXdYO2qpUu1pqVFsUgk715kubuRTvLibi6A6mEHEI5LTE2po79fZyYnM2byStJYIqH2vj411dcr3tXFWDYfqUaxRTna2tZr5cp1jk8CsY6Yk8nTyrX7WSMpFoloTUuL6mprtaejQxsGBhbsRTqxG+kUr+7mAqgedgDhuIlUSmcmJ3Xi7Fm19/Vp7MJOoBX8nTh7VmcmJzWRSrm8UpSi0sUWTqitrVNra7uuvfYutba2OxK8WEfMszL39qzPejs65voBrm9r06GNG/WWSCTjWid2I53i5d1cANXBDiAcF4tGNdTdPRfstff16UBnpzYNDurE2bNa0diooe5uZvP6TLGdsNnjzZgnjjedZh0xZ+fLxSIR9Wb1AZRmg8B1K1fq/tG1npxL7PXdXACVRwCIimjOCgJX790rSXPBXzPBX1nS6WkNjY7MFR5Yx4+VVOliC6/LdcT8/7Q8nffvva621rOtXvywm+uk7AkuXgrGAbcQAKJimqNRHejsnAv+JOlAZyfBX5msys2/ztqJyp5IUQn5dsJmK0d7PXG8WUnWEbOlTkddW0s5TNrNpdIZyI0AEBUzlkho0+BgxmObBgfZASyDVbmZ/UvbmkhxaOPGqgSBlSi2QPWYspub7+eFsXwARSCokPkFHysaG/X9++7TisbGBYUhsK/YRAppdiLFdDpd8bVUotgC1VXJ1jleULzSmbF8MBs7gHDceFbwZ+34ZReGHKUQpCSlTKRob22t3sLgW0HezS2l0tmruZpAJREAwnENoZCa6uslKeO4d34Q2FRfr4ZQyM1l+k4pEykAu7LzGoOCSmegMAJAOC4aDive1aWJVGrBDl9zNKqj3d1qCIWMbgK9mKrEUiZSAKYzrdIZKBUBICoiGg7nDfBMP/ZdbFViKRMpANOZVOkMLAZFIEAVlTN/tdSJFICJ0ulpjYwM6Wc/G9D11z8ga7RdpuBUOgOLxQ4gUCVOzF8tdSIFYJJcu+tLllwuSTp//pdzj5nStxIohAAQqBKnqhKtys21o/dXdRII4GX5ev6dP/8rSVJ7+05dfvnbAlXpDJSDAPCCv/3bv9X27du1detW9fb2ur0cBJCTVYm1tXW0evGBHdrp6vffqR2ufv9qsbO7/uyz/7d6ekYI/IAL2DKQ9KMf/UiPPPKI3vnOd7q9FAQYVYlAZZSyuw5glvEB4Llz53TPPffoS1/6khobG91eDgLMqkpcmJBuqVEk0kxVIlAiev4BpTM+ANyyZYtuv/123XLLLUWvTaVSSiaTGR+AXYWqeKlKBBaP3XWgdEYHgF/5ylf07LPPateuXbau37Vrl6LR6NxHc3NzhVdYPYmpKY3nmc87nkgoMTVV5RUFU9DnrwJuYHcdKJ2xRSBjY2PaunWrnnrqKYVtTqTYvn27tm3bNvd5MpkMRBCYmJpSR3+/zkxOZoxuk6SxC3N9m+rrFe/qMnp6h1OCPH8VcIO1uz5bBVyjzGIQdteBXIwNAH/84x/rzJkzuv766+cem56e1ne/+1390z/9k1KplOrqMt8sQqGQQgGcXzuRSunM5KROnD2r9r6+uSDQCv5OnD2rs2rUztQWRcMxt5frKqeqKoM6fxVwS74emfT8A3IzNgD8gz/4Az333HMZj917771auXKlPvWpTy0I/oIsFo1qqLt7Lthr7+vTgc5OfWBwSGfPnlVj4wp1dw8pGjU7+APgbeyuA/YZGwA2NDToHe94R8Zj9fX1uvzyyxc8boLmrCBw9d69kqQVjY1a1z2kaNT/R91YvB3aqZ3a4Xpfu2oxpX9eELG7DthjdBEIMjVHozrQ2Znx2IHOToI/SHK/qTEAwDkEgPMMDQ0ZPQVkLJHQpsHBjMc2DQ4qkRhzaUWAOwh2AQQdASAkKaPgY0Vjo75/331qbFyhE2fPqq+vnSAQAIAAIQCExrOCv6Hubr1v2TJ1dw9pRWOjzp49cSEILDRqCcB89NY0Rzo9rZGRIT333KMaGRlSOj3ti+eG2YwtAsFFDaGQmurrJSmjD2A02qyh7m69q+8x1dc3KRRqcHOZgG/QW9Mcw8NH8rSe2VN265lKPjfADiAUDYcV7+rS0axfVNJsYUh391F1dcUVDkfzPAOA+bJ7a45d2Amcn2pxZnJSE6mUyytFOYaHj2hgYENGgCZJyeRpDQxs0PDwEU8+NyARAOKCaDisWDR3gBeNxgj+gBJYvTVXNDbOBYE/OHVqQapFvp85eF86Pa14fKsyp45YZh+Lx3sWdWRbyecGLASAAFABzVlB4Oq9ezOCv+zddvjL6OixBbtzmWaUTI5pdPSYp54bsJADCAAVYvXWtBqrS7O9Ne0Ef4mpKU2kUjl3CccTCTWEQkXzB2lnszh2GoGfO/eSreeye121nhuwsAOIQKOCDm7K11tzLE91sMUqIrl5Xv7g/Oe8ua9PHf39VBK7aOnSqxy9rlrPDVgIABFYw8NH1Nu7XPv3r9Xhw3dr//616u1dTvI0qiJXb835OYGFgkCKSLyvpWWNIpGYpJo8V9QoEmlWS8saTz03YCEARCBRQQc35eutmV0Ykq9PIEUk3ldbW6eOjj0XPssO1GY/7+joVW1tnaeeG7CQA4jAKV5BV6N4vEcrV66z/QZKLhVKka+3plUYYvUBbAiF8j7H/GutIhJJFJF4SFvbem3ceChPr77esnr1VfK5AYkAEAFUSgVda2t7lVYFk1i9NXMVcTRHozra3W2riKOcIhJUR1vbeq1cuU6jo8d07txLWrr0KrW0rHFkd66Szw0QACJwqKCDF0TD4bwBnt2j23xFJOwAekttbV3FbiYr+dwwGzmACBwq6BAE5RSRAEAxBIA+xJD5wqigg9+VW0QCAMUQAPoM/cGKo4IOfmcVkWQXfMyfLjK/iISbQgClIgD0GfqD2WNV0EUib8l4PBKJaePGQ1TQwdOsIpKjOXL9rCKSeFeXouEwN4UAFoUiEJ+JZbWGaO/r04HOTm0aHKQ/WBYq6OBndotIsm8KrR3D+TeF1nXFqo4BmIMdQB9iyLx9VgXdtdfepZaWNRodPcZYOJ9z87hzaiqhRCJ3iyG3jlppGg1gMdgB9Cn6g5VmePhInoaqezgO9hHruPPM5OSCmx1rx6upvn7ueNRJU1MJ9fd3aHLyjLq7hxSNNlftexfjpabRiampnP0Ppdkg2U7/QwCVxw6gTy12yLyJGAsXHG7mwKZSE5qcPKOzZ0+or69dicRY1b63HdZN4XzVvikkHxHwDwJAH6I/mH3Fx8JJ8XgPx8E+4eZxZzQaU3f3kBobV8wFgV46avXCTSFFaoB/EAD6DP3BSlPKWDh4R6E8vxpJ37jrLldyYKPR5owg0Cv5t165KSQfEfAPAkCfKbU/mOkYC+c/do4R/69vfEMP3357xp9V67gzGm1WZ+cBV753Ll67KaRIDfAHAkCfKaU/GBgL50d2jhFfnJjQA9/8ZsbXVeu4M5EY0+DgJle+dy5evCn0Qj4igMIIAH0oGg7nPUKJRaMEf/MwFi43L0+OKHaMuOzCv/1TiUTVjzsTiTH19bXr7NkTamxc4Yn8Wy/eFHohHxFAYQSACDTGwi3kh0rNfMeI2cFfNY87E4nxjOCvu3vIM/m3Xrop9Eo+IoDCCAAReIyFy+SXSs1cx4hf+uAHdXVDgyvHnaFQg+rrm+aCP6sPIPm3F3ktHxFAfjSChhEYC3eRX8YJ5jpG/Ojjj+sbd92laCi0YH3WcWelGg2Hw1F1dcWVSk0oGo1V9Xv7hZWPKClngG41yzY5SAa8ggAQxrDGwsFbkyNyyT5GnB+g/vGjj2qouzvn11U6aA2HowqH8x+1ms7KR8w1CYQgGfAWjoABQ3m1UpNjRH/zUj4iLkqnpzUyMsQsdMxhBxAwVL5KTbd3ADlGBJzFLHTkwg4gYCAvV2p6sa0J4FfMQkc+BICAYfxwxMoxIlA+ZqGjEAJAwDDlTo7wchNpABcxCx2FkAMIGKacSk2rifSZyckFuYLWsXJTfT1HtIAHMAsdhRAAAgaKhsN5A7RC7Uyym0hbQeD8nELrOgJA2JWYmsp5QyLN7irbbR3j1PPs0E57C/e4oaUjOmzjOmahm4kjYLiK1gT+UmxOr1eaSMM/nBpN6IcRh9W2pqVFsUgk7yR0U2ehYxYBIFwzPHxEvb3LtX//Wh0+fLf271+r3t7lVKV5XL45vV5pIg1/cWo0oV9GHFZTXW2t9nR0XPiMWejIRABYYSTM50ZrAn/zahNp+I9Tu8rsTue2vq1NhzZuZBY6FiAArCCOJHKjNYH/5Wsi7Wb/wGqz8sR2aofLK/E/p3aV2Z3ObX1bm3p6Tmrz5qd1xx0HtXnz0+rpGSH4MxxFIBVkasJ8Oj2t0dFjOnfuJS1depVaWtZkHDGU0pqA2b3eU2hO7/x/50E3P/DzYhDot0IGa1fZmkstLW5X2annCRpmoSMbO4AVZOKRhJ28PloTuMOJdAQ/NJGGPzm1q8zuNGAPAWCFmXQkYTevz27LAVoTOMepdIRym0gDuTg1mtDLIw4BryEArAITEuZLyetraVmjSCSmhVVpFloTOM2pCknm9MJpTu0qszsNlIYAsApMOJIoJa+vtrZOHR17LjxOa4JinDi6dTIdgTm9cJJTu8rsTgOlMToA3LVrl2666SY1NDSoqalJH/rQh3T8+HFHv4cpRxKl5vW1ta3Xxo2HaE1QhJOV5CalI8A/nNpVZncaKI3RAeDRo0e1ZcsWPfPMM3rqqaf0xhtv6NZbb9Xk5KQjz2/SkcRi8vra2tbTmqAIp5vbmpCOAP9xaleZ3enqY5qTfxndBiYej2d83tfXp6amJv34xz/W7//+75f9/NaRhKScRxLtfX2BOZKw8vqSydPKnQdYo0gktiCvj9YEhcXm/VuxgsD5bVdKrSTPl47ADiCAUg0PH1E8vjUj/ScSiamjYw838j5g9A5gtsSF3ZXLLrvMkecz6UiCvL7Kcero1pR0BACVxzQn/zN6B3C+dDqtnp4erV69Wu94xztyXpNKpZSad9SWTCaLPm80HM4b4AWp/590Ma8v9x1hL3eEZSi3uW2udITmHLuLR4vsJnqx4XEl+K2JMlBNxbs+1Cge79HKleu46fcwAsALtmzZop/+9Kf63ve+l/eaXbt2aedOfjEU0ta2XitXris4CQSlK/fottx0BFMCP0ux/95i026AIGOaUzAQAEr62Mc+pm9961v67ne/q1gslve67du3a9u2bXOfJ5NJNTc3V2OJvkJen7OcGL1mpSNMpFILdvisdISGUCgQ6QiVRt4TTMc0p2AwOgCcmZnRxz/+cQ0ODmpoaEitra0Frw+FQgoFoGAD/uHU0a1kVjpCpVh5T9lHX1bek5daGJm2a+skUgAKY5pTMBhdBLJlyxb19/fr4MGDamho0Msvv6yXX35Z58+fd3tpgCSa23pJKdNu4F8Ef8UxzSkYjN4BfPjhhyVJ7e3tGY/v27dP3d3d1V8QkIWjW++wm/d08uSQVqz4g6qtC6g2q+vD7G54jTJviuj64BdG7wDOzMzk/CD4g5uyR7/Nb26bPfqN5rbVYzef6Wtf21ixFhg03YVXMM3J/4zeAaykxNRUzl0bafaXOLs2yMUa/XZmcnJBcYdVDNJUXx+Y/pGV5mS1rt18pvPnf1WRfECKT+A1dH3wNwLACuCXOBYre/Sb9e9nfiWwdR3/dgpzOmCanHy1pOud7IPmp+ITmIWuD/5l9BFwpTg9vxXmiGVN/Wjv69MPTp1aUAlM1W5hTk8pSKen9eST24pfOOdiH7RyUXwCoBIIACuAX+Ioh1Oj30xViYCpeAFIbk70QSul6W4+uXIHyScEzMYRcIVk92qzRnjxSxx2lDv6zWSVmFKw2EDOiT5o5TbdzXUUvmTJ5ZKk8+d/OfcY+YSAWdgBrCDrl/h8fvslPp1Os0vggnyj38bmVQcjt0pMKSg9kHOuD1o5TXfzHYWfP//LjOBPWvzxeJBMTSUyKvDny67AR/WwW10Z7ABWULnzW902PHxEy+O9Gk/+9dxj7BJUnhOj30xWiSkFVuPbZPK0ch8tz+dsH7Ti37tGkUhsQbBZ+Cg8lxlJNY4Wr/jJ1FRC/f0dGpg8TvGeh1D9XjnsAFZI9i/x7993X0ZOoNd3co4MD2tgYIPGk8mMx9klqKxco9/et2zZgpzSfLsUqMyUAqvxrfX1hTjdB63w984fbC4ub9G54hW/SaUmNDl5huI9D3G6mAuZCAArwO+/xKfTaW2Nx0XVYfUx+q18iw2YisnX+LahIab29p26446D2rz5afX0jDi+M7GYprvlFKA4UbziN9FoTN3dQxTveQTV75XHEXAFWL/EJeX8JW4dJXj1l/ix0dEFO3+ZSk+ihz2MfnOGFTDlPjrqXXSA5mbj21K/dzkFKE4Ur/hRNNpM8Z5HVKKYC5kIACvA77/EXzp3ztZ1Ju4SVEM0HM77b4PdB/sqFay52fi2lO9dWt6iJXc+oUmowPeGShRzIRNHwBUyf35rNq/Pb71q6VJb15m6SwD/sAKma6+9S62t7UYVNpSStzj/GqeKV/yKCnxvqEQxFzIRAGKBNS0tikUicjKJHigXrSBKly93cMmSy+d6AVqcLl7xo0RizNfFe0FSiWIuZOIIGAvU1dZqT0eH7hj4mmqUfXjELgHKk05Pl3wsW04riMV8vyDJdxQuyei/l2yJxLj6+tp1NmvqzvycwPa+Ph2lEKQqrB3s2RnY2b+J+D3kBAJA5LS+rU0bNx7SD+L3ZhSElJtED7MtJpCzWkFk34pYrSAK7VrRQ2xWvtzB7MdMDpZDoQbV1zepUWc11N2tSCik8UQiZ/HeeCLh6TzuoKhUMRdmEQAir7a29Tq48t91/+haI38hwFmLCeSKt4LI37i4nMDRRKYHy+FwVF1dcW1J7VRDKKSO/n6dmZyc2wm0iveSqRRNoavIzcr7oCMHEAXV1dYam0Q/X2JqihFRZVhsT69SWkE48f1MRcPdWeFwVLFoVBOplM5MTmbk/sWi0bngj6bQ1WVyMVclEQACRUxNJdTR36+bcySBjyUSurmvTx39/QSBBSw2kDt+/DFbz5/dCmKx389EBMsLxeY1XqcpNIKKABAoIpWaWLAbIOUfEcVu4UKL6ek1PHxEzzzTa+vrsltB0EPMPoLl3JqzgsDVe/dmBH/0BYTfEQACRUSjMdu7AYmpKXYLcyi1p9fFXanicrWCoIeYfYsNlk1oy2M1hZ6PptAICopAABuy20HkGxGVnTtk/dn83ULrOpOSx4tPpcicQFF8V+qiXK0gSv1+JltMsJyrYKSh4S264YY/0eWXvy0wifr5mkKzA4ggYAcQsMnObgC5Q7kVnkqxsKeX3V2p9763J2eFaqnfz2SlNtzNVzAyMXFaQ0M7dPjw3dq/f616e5f7unhk/k1bpZpCky4CNxEAAjbZHRFF7lBu+aZS5JpAYXdX6nd/d50j389kpQTLhQtGMvm5gng8K/gb6u7W+5YtW3Bzly94s4N0EbiNI+AKoVFosGTvBhzo7NSmwcEFR70WBsrnZren18Uj3HzHwPaOcOkhZo/dhrulHM1bQeI3v/mAwuGoli/3T/uOhlBITfX1kpTxs52rKfRikS4CtxEAOmA8mVTbvB9Q6weYRqHBkEiML9gNKDYiityh/PJNpZjv+ecf0xtvnM/zp6Ud4dr5frAXLC+mavr8+V/pX/7lFl81lY6Gw4p3dWkilVqQrjG/KXQ57+2xHO8h828sTU0XQfVwBOyA2w8eLNoaBP4VCjWoqb5+wRHu/KPe+bsB1cgd8rJyq0OtHLPz53+Z88+XLLmMI9wKKdZwt5yqab8dCUfD4bzBVywadeTG3uR0EROqyL2OHUAHnHztNe7eAiwcjtreDciVO2TSQPlyx4nZyTG75JIlWrkyf+4fKqd4dXUhhUf3mcrEdBHTxw56BTuADlj+5jcbd/dmGru7AVbukN3dwiBxYpyYnRyziYlx45oSe0XhghE7zGwqXYjd4rKgYOygdxAAOuCLH/hAxudBv3tDflbu0NEcNwDWbmEQ80KdGifGBA/vy1ddXQpev1mmpYswdtBbOAJ2wJ9861sZnwcl2T+dntbQ6IieO/co1ZMliIbDeQO8IB77SqWNEytUkOHHCR47tNPtJeS1Uzsq8rzZBSO//OX/0bPPfsl2hbCXXj+3mJgu4tT7BJzBDqADTr72WuDu3o4MD6u3d7nW7t8fmMauqByndu5KbUrsJi8HfpZKrnF+wUh7+6fV03NSmzb9v1qy5LICX+Wd189tJqaLsMPvLQSADlj+5jdXpFGoW44MD2vDwAA5GrDNqZ07P03w2Kkdng8CK7UDmEttbZ2uueYP9MEPfkmzr5W3Xz+3mZgu4scd/iAjAHTA43ffHZi7t+l0Wlvj8Tz1feRoIDcnd+6Y4OFvvH72VaPVjJf4aYffBOQAOiAWiWR87lSjUDccGx3VeDJZ4ApyNLCQtXM3MLBBs2/u828hSt/5YYKHv/H6IRen3ydQHgLACvFr0u5L587Zuo4cDWSzO07MLiZ4+BuvH3Jx+n0Ci0cAiAxXLV1q6zpyNEqXmJrK2UxaCs7saHZ+ABTD+4Q3EAAiw5qWFsUiEZ1OJvPkAdYoEomRo1GixNSUOvr7dWZyckGLoKDNjmbnB0AxvE+4jyIQZKirrdWejo4Ln1HF55SJVEpnJicXtAjKNTs6MTWVt3p8PJFQYmqqmkvPi1meQHn88rOOYCIAxALr29p0aONGqvgcFMsa+t7e16cfnDq1oBFsQyikjv5+3Zyjj+RYIqGb+/rU0d/v+i+G4eEj6u1drv3719InElgE61TA6z/rCC4CQOS0vq1NPT0n9fTmzbrjjoPavPlp9fSMEPyVoTkrCMw1O7qUnUK3MMsTKJ8fftYRbASAyKu2tk7tra269tq71NrazrGvA5qjUR3o7Mx4bP7saLs7hW5VmTPLE3CG13/WEXwEgEAVjSUS2jQ4mPHYpsHBjCMgOzuFbillliewGCbllnr5Zx3BRwAIVMlY1vD3QrOji+0UuoVZnqgkE3NLvfqzjuAjAASqYDwr+Cs2O9rOTqEbmOWJSjE1t9SrP+sIPgJAoAoaQiE11dcvONrJNTu6lJ3CamOWJyrB1NxSL/+sI/gIAIEqiIbDind16WiOvB5rdnS8q0sTqVRJO4XVZs3ynEWfSDjDxNzSUk8FAKcRAAJVEg2H81b0xaJRRcPhknYK3WLN8qRPJJxiYm6pH37WEWzGj4L7/Oc/r89+9rN6+eWX9a53vUsPPfSQ3vOe97i9LBjK2inMNTPY2in0wsxgZnnCSZde2mTruiDllvrlZx3BZXQA+NWvflXbtm3TF77wBa1atUq9vb267bbbdPz4cTU12XtDApwWDYfzvul7qScYszzhhOHhIxfy/wq79NIrNDFxWiMjQ4G52fDLzzqCyegj4H/4h3/QAw88oHvvvVdtbW36whe+oEsvvVR79+51e2m+ZlIfLwCLl6/yN5df//pVHTnSZURrGKAajN0BfP311/XjH/9Y27dvn3ustrZWt9xyi374wx8u6jnHEwnjt+ytu/n5b+iRSEwdHXvIDQMwp3Dlb2FWaxhyToHFM3YH8Be/+IWmp6d15ZVXZjx+5ZVX6uWXX875NalUSslkMuPDwvBuc/t4AShd8crfQoLbGiaXxNRU3mrg8UTC2N85KI+xAeBi7Nq1S9FodO6jublZkjSeTBo/vNvUPl5AtQUlGCi/ojd4rWGkha9vYmpKHf39urmvT/82Pp7x+rLxgHIYGwD+9m//turq6vTKK69kPP7KK6/od37nd3J+zfbt25VIJOY+xsbGJEm3Hzxo/PBuE/t4AdU2PxjIbhLst2DAqYreILWGyfX6TqRSOjM5OTcreG1fnxJTUxlNpE3deEB5jA0A3/SmN+mGG27Qt7/97bnH0um0vv3tb+v3fu/3cn5NKBRSJBLJ+JCkk6+9ZvzwbhP7eAHVNj8YmD8pwo/BQPGpMvYEqTVMrtc3Fo3q4B136JLaWv0mndZzZ87o6ZGRBU2kTdx4WKx0eprNCBkcAErStm3b9KUvfUn79+/Xz3/+c330ox/V5OSk7r333pKfy/Th3cyIBSovNq9JsBUk/ODUKV8GA8WnytRoyZLLc/zZxWuCNnYw3+t79+HD+k06PRcEdn71qxmvt8m/e0o1PHxEvb3L9eijH3B7Ka4zOgD88Ic/rN27d+vTn/60rrvuOv3kJz9RPB5fUBhih+nDu5kRC1RHc1aQsHrvXt8GA8Wmynzwg1+88Ig5YwcLvb4Dd96Zca3pGw+lKqXtkAmMDgAl6WMf+5hGR0eVSqX0r//6r1q1alXJz7H8zW82fng3M2KB6mmORnWgszPjMb8GA21t69XTc1KbNz+tO+44qM2bn1ZPz4ja2tYbO3Yw1+u7+w//UH/+5JMZj5m+8VCKctoOBZXxAaATHr/7boZ3ixmxdpRawRmUik/kt5jXeCyR0KbBwYzH/BwMWFNlrr32LrW2tmfcKBYKEIMq1+u78dChuZ3A7993X8bvHL++7tVUXtuhYCIAdEAsEmF49wUmvlnbVWoFZ5AqPpHbYl7j+QUfpgQDhQLEoMl+fQc//OG53L9Lamt18I479L5lyxbkCpq68WAXBYgLEQA6xBreHe/qMnoSiGTWm3UpSq3gDFLFJ3Ir9TUezwoOhrq7CQYCJNfru7a1Ve+88sq5IPDuw4c1nkhk5AqavvFgBwWICxEAOigWjRof/CG/Uis4g1TxidxKfY0bQiE11dcvKPggGAiGXK9vNBzWdzZvntvpnf/6svFgn1Nth4KkZmZmhozIRUomk4pGo0o8+KAiAfzh26kd2qGd2qkdbi/FdTu007Hnmr+7YylUwVnq9ZVkyr8Fu//unfp3UcprnJia0kQqlTPwz55Hbsrr5SQnf9YXo5TXtxT8W7hYBTxrNvRJJBJzPX1Nc4nbCwAKsRp2njv3kpYuvUotLWt8f6RsVfit3rt37rFCFZylXl9Jbv9yDKpSXuNoOJw3AGA32P94fSvHKlSMx7dSECKOgOFhVsPO/fvX6vDhu7V//1r19i7X8PARt5dWllIrOINW8WmiYpW+PztzhtcYqAKrUPGuu77l9lJcRwAIT8rXsDOZPK2BgQ2+DQJLreA0seIzaIpV+q7eu1c3PPIIrzFQJbW1dQwlEAEgPKhww87Zx+LxHqXT01VdV7lKreCk4jMYClX6vn/vXp1KJJSantayC4UcvMYAqoEAsAJo3lue4g07Z5RMjvlumHepFZxUfAZDoUrfU4mEQnV1WhaN6nv33cdrDKBqKAJxmHXcc2ZyckEFn3Wc11RfT9l+AXYbdvqtsWc0HFa8qytnhZ/VzmF+hV+p18O7rIDO2tG1ij1WNDbqG3fdpWgoxGsMoKrYAXQYzXvLZ7dhpx8be0bD4byVfLn6SJZ6Pbwr3/zetzc18RoDi5ROT2tkZEjPPfeoRkaGfJca5CYCQIfRvLd8xRt21igSaTY6iZc0A/+hmhtwVlA7RVQLAWAFNGcFgav37s0I/tzo3+YntbV16ujYc+Gz7CBw9vOOjl5f9QN0MmBjRrD/UM2dHzs4WIygdoqoJgLACsl33EPwZ4/VsDMSeUvG45FITBs3HlJb23qXVlY6pwM20gz8hWru/NjBwWIEtVNEtREAVgjHPeWzGnZu3vy07rjjoDZvflo9PSO+Cv4k5wM20gz8pSEU0mVLlsy1ecmu9F0WjeqyJUuMq/RlBweLFdROEdVGAFgBHPc4p7a2Tq2t7br22rvU2truq2NfSyUCNtIM/KXY+HnTxtOzg4NyBLVTRLURADqM4x7kUomAjTQDf5hIpfTL8+d16sJ7Q/YO8KlEQr88f96oI3t2cFCOIHeKqCYCQIfRvBf5OB2wkWbgDxzZL8QODspBpwhnEAA6zGreezTHro7V2JUm0GZyMmAjzcBfOLLPZHdn5tJLmyq8EvhREDtFuIEAsAJo3otsTgZsXk4zoD9hfhzZX1R8B2fWY491UwyCnILUKcItBIBAhTkdsHk1zYD+hIVxZH9R4R2ci6gIRiFB6RThFgJAoMKcDti8mmZAf8L8OLJfyNrBaWi4usBVVASjsCB0inALASBcZcIUgEoEbF5MM6DYITcvH9m7ra1tvTo79xe5iopgoBIucXsBMNfw8BHF41sz2kFEIjF1dOwJ3BZ+NBzOG5QFKSCydjWtgGf13r2SZGyxg3RxB1hSzh3g9r4+ozsDTE6esXUdFcGAswgA4QprCkB2I1gr54ckXv+yih2s4E8yt9hBurgDPJFKLQj2rR3ghlDI2OIweroB7uAIGFXHFIBgM7HYgernxaOnG+AOAkBUndNTAEzII3RapQIWE4sdilU/r9m3T2//53/Wmn37qI7OgZ5uzir0s51IjGtqKng/g1gcAkBUnZNTAIaHj6i3d7n271+rw4fv1v79a9Xbu5y2EQVUql2LqcUOxaqfT772mqZ+8xudfO01qqPzoKebMwr9bCcSY+rru1n9/R0EgZBEAAgXOJXzY+URZu8m0jussEq1a/Fqf0Kp8K7I8JkzGj6TuxDBzo6Jnern72XthFIdvRA93cpX6Ge7r69dZ8+e0OTkGaVSEy6vFF5AAIiqcyLnhzzCxatUuxav9icstCvyszNndP0jj+j6Rx7Rz7KCwFJ2TIqNelsVizEKzgZ6upWn0M/22bMn1Ni4Qt3dQ4pGY24vFR5AAIiqcyLnx+k8QtMUC1gioVDRHMFcu2pWf8JceYRu9ScstCvyn7/8ZaWmp5WantZ//vKXy9oxKTbqjVFwqIZ8P9sXg79mt5cIjyAAhCvKzflxMo/QVPkCkkgoVDRH8A//5V90y7/8iy/GvhXaFTmVSGhZNKpl0ahOXTgCX+yOSbHqZxOro+GOXD/bnZ0HCP6QgQAQrikn54feYeXLF5Ac/8UviuYIvjI56auxb4V2PL93330ZOXqL2TEpVv38r+PjxlVHwz25frYHBzcpkRhzaUXwIgJAuGqxOT/0DitPoYDlrsOHdfCOO4oWNfitsKHQEWw5OyZ2qp/fn3XEbkJ1NNyR72f77NkT6utrJwjEHAJA+BK9wxbPTsBy9+HDenReEJiraKFYHqHXctsKHcGWs2NSrPp5+ZvfrPAll2j5m9/suepoBEuhn+3GxhXzgsBC+dMwBQEgfIveYYtjt13L7/72bxctWvBLYUOhHc/3792bsUNX6o5JsernY/feq5/9l/+iY/fe66nqaARPoZ/t7u4hNTauUH19k0KhBpdXCi9gFjB8ra1tvVauXKfR0WM6d+4lLV16lVpa1rDzV4Dd2bTJVCrnjtn8Xyz5dtXs7gAmpqZyrkOa3c1wYkZurl0RK9h9/969OnXh6HXZhcesP3tX32NzQWB399G5QpCpqYRSqYmMwpBoOKxoOJxzzcWOwb10TA5/K/SzHY02q7v7qEKhBoXD/JsDO4CuYn6oM+gdVjqrXUsusWhUyVSqaNFCuWPfKjWRJFuhXZH/cc89CtXVKVRXp/9xzz1Fd0ymphLq7+9QX9/NC3YGvVb9DDMV+tmORmOBCv4YA1oedgBdYv3yOzM5uWC3xPrF2lRfz9EQqq7Qjpn1+Pv37pUknUok8l7T3tenowUKQbL781nPMT+wtK4r52eg0K7I25ua9Oyf/qkkqa2pKfPrcuyYpFITmpw8M7cz+InudRVZM4DChoePKB7fmtEPNhKJqaNjD+k/NrED6JJKjeMCymUnR/DK+vqyx75VaiJJLoV2RdqamhYEf3Nfl7VjEo3G5nYGz5494YvqZyBoGAPqDHYAXRLLsVtyoLNTmwYH+UUCV9nNEZRU9Jpiu2DZu4arL+wserWSWLJ2BofU19euE2dP+GLNQFAUHwNao3i8RytXriMdqAh2AF3ktzYaMEexHEGr6KHYNXbkqiR++Pbb83Z49EJ+bDTarM7OAxmPebH6GQgaxoA6hwDQZX5powFUSq5K4j9+9FGt3rvXs2PmEokxDQ5uyniMsW6VQ7I/LIwBdQ4BoMuYDwqT5aokXhaNKjU9rVOJhN4/Lwj0Sn5sIjGmvr52nT17grFuZbAb1A0PH1Fv73Lt379Whw/frf3716q3dzl5XoZiDKhzCABdVG4bDcDP8k0t+N6FIFDSXBDolUKLRGJ8LvhrbFzBWLdFshvUkeyPbIwBdQ4BoEvsjOPiFwmCrFC1sRUEhurqdCqR8Ex+bCjUoPr6JjU2rlB39xBj3RbBblBXPNlfisd7fHscTB/YxWEMqHOMDABPnjyp+++/X62trVqyZImuueYa7dixQ6+//nrV1mB3HBe/SBBUxUaoff+++/SNu+7KeNzt/NhwOKqurviFySDNGX/GWLfiSgnqgpzsX60m6EHFGFBnGNkG5vnnn1c6ndYjjzyit771rfrpT3+qBx54QJOTk9q9e3dV1mC31Qa/SBBkVjVxLjOSPvr44xmPlTJmrlLC4WjeaQq0bSqslKAuyMn+1WqCHmSMAS2fkTuAHR0d2rdvn2699VatWLFCf/zHf6w///M/15Ej1c0ncaqNBipjfpL60MiIptNpt5dkDPJjg6mUoC7Iyf7VbIIeZIwBLY+RO4C5JBIJXXbZZW4vAx6RPWbosKRYJKI9HR1a39bm7uICzs4oumJj5uBNpQR1VrJ/MnlauY+MaxSJxHyb7O/HJugIFiN3ALO98MILeuihh/SnF2aC5pNKpZRMJjM+EDz5ktRPJ5PaMDCgI8PDLq3MDOTHBlcpFZwmJPvTBxZuClQA+OCDD6qmpqbgx/PPP5/xNadPn1ZHR4fuvPNOPfDAAwWff9euXYpGo3Mfzc3NBa/PhcovbyuUpG490hOPG3ccvFM7qva9ihWHUGjhX6UGdUFP9qcPLNwUqCPgT37yk+ru7i54zYoVK+b+/4svvqi1a9fqfe97n774xS8Wff7t27dr27Ztc58nk8mSgkCr8uvM5OSCLX4r56mpvp5fbi4qlqQ+I2ksmdT9o2vV2tperWW5bod2VvX7FSoO4djX36ygbn6KhTQb1HV09C4I6oKa7J+d5zp/Fvz8whCgUgIVAF5xxRW64oorbF17+vRprV27VjfccIP27dun2trim6GhUEihMo6dqPzyviBXHgJeUWpQZyX7BwV5rvCCQB0B23X69Gm1t7dr2bJl2r17t1599VW9/PLLevnllyv6fan88r4gVx4CXmJyBSd5rvCCQO0A2vXUU0/phRde0AsvvKBYLJbxZzMzuarNnEPll7cFvfIQgPvoAwsvMHIHsLu7WzMzMzk/qoHKL+8yofIQqJT5vTNHRoZ8O6atGugDC7cZuQPotnyVX+wAekOpSeoAFvbOlKyfmT38zMAR1ojAIBUDuYkAsMqo/PKHlSvXKRSKanR0SDMzUmtru5YvNytPCbDL6p2ZnTaRTJ7WwMCGQLRsgbu4wXCekUfAbslV+fW+ZcsWFIbk6xOI6hgePqLe3uU6cOAWffe7n9GxY5/R17/ereeff8ztpbmm0n0Aq9ln0A6vrcfLCvXOtB6Lx3s4Dsai5WvOb91gDA9Xd4xrULADWEVW5ZeknJVfVh9AKr/cw05GfpUMinZop3ZqR9X6DRLgOadY70xpRsnkmEZHjwWqlQuqo/gNRo3i8R6tXLmOE5oSEQBWEZVf3lbqGw35KAC9M1FZ3GBUDgFglTHhwLtKeaM5f/5X5KPANyp5s0LvTFQSNxiVQwAIXGD3DeT48cf0zDN7xDEx/KDSyfP0zrQvMTWV8wRIms0R5wRoIW4wKociEOACu28g//Ef/SLhHX5QjeR5emfaY82Cv7mvT2NZhX5jiYRu7utTR3+/ElNTLq3Qm6wbjIX/tiw1ikSaucFYBAJA4AI7bzSXXnqFfv3rXxR4lovHxICbptPpqlXnWr0zI5G3ZDweicTYEb8gexa8FQTObw12ZnJSE6mUyyv1Fm4wKocAELjAzhvNO995j63nIh8Fbjs2Omo7p9UJbW3r1dNzUps3P6077jiozZufVk/PCMHfBcyCXzxuMCqDHEBgnmJTQJYsuUzPPNNb9HmClI9CtbM/vXTunK3rjh9/zLHqydraOioxC2AW/OK1ta3XypXreC9yEAEgkKXQG006PW1Uwjvd9/3rqqVLbV33zDO9WrZsDa9nlViz4K3gT2IWvF3cYDiLI2AgB+uN5tpr71Jr68URcCblo9B939/WtLRcyGktpobCpSrKNws+uzAEqDQCQKBEXshHSaenNTIypOeee1QjI0OO//JmvJf/1dXWzrtZKYTCpWrJngX//fvuy8gJJAhENXEEDCyCm/ko1TiWpft+MLS1rdd739tjK2+VwqVZlerVl2sWfHZOYHtfn45SCIIqYQcwoBJTUxrPczc5nkjQa8oB+Y6JK8nOsawTu4N03w+O3/3ddbauC1Lh0mJNTSUq1qvPmgWfXfDRPK86mFnwqCZ2AAPIajh6ZnJyQWWZdQTRVF+veFcXXed9xM6s4m9+80/0xBN/pomJ03N/spjdQbrvBweTOuxLpSYyevVZ75/zj26l2Z5+pb53MgseXsMOYAA51XB0h3ZWY7mwyc6x7Pnzv8wI/qTFFW3QfX+hSuddVopJhUvlikZjFe3VFw2H835tLBol+ENVsQMYQLEceSUHOju1aXBwUW9iBIKzdmqHdmindmqHK99/8cets7uD8XiPVq5cZ+sXvRU0DAxs0GyQMH/nKPhBQ3bvw8nJV/Xkk9sW5F2+q+N9Wt/W5uJK7SnW35IWMBfRqw+mIAAMKN7Egqe849bSizZMDRpyFdnkkkye1oaBAR3auNE3QSCNdO2hVx9MQAAYYLyJBUvxXK7iSt1FNC1osIps7P39zl7TE49r3cqVqqv1fkYNjXTtyderj5tnBIn337GwaDQcDZbCuVz2LGYX0Y1qZzcULrLJbUbSWDKpY6OjFVtXOUjfKB29+mAKdgADKvtNbH4O4PzqNvhLoWPZN944r/PnfyUqPReneJFNfnbn7rqBINC+8QutXujVBxMQAAYQDUeDLd+x7PPPP2Zs0YYTyulpaHfuLrzN6tUnKWevPquFFr36EAQEgAHEm1jw5crlMrVowymLOR6vkRSLRLSmpcX5BaHq6NUHkxAABpBbb2KVGqEE+0wr2nDSxSIbu8fAszutvR0dvigACSqn33ei4XDe6zkxQZAQAAZUtd/EmD7iHV6r9MzuqefVgLS2tk633fY5fe1rd9q6PhKJaV/H7/miBUxQ8b4DLB4BIByRPX3EyRFK8K9cPfUWM5quWi699LdtXXfbbZ/TqlUf1/raz1R4RSiE9x3v88sNoIk4t4AjrOkjlRqhBP+xeuplH6kuZjRdtdgtBFm69Ep+iXkA7zveNjx8RL29y7V//1odPny39u9fq97e5Z782TcRASAc05z1Zrx6794FlcgwQ+GeerOPxeM9npuna7cQpLypLHAS7zve5McbQNMQAMJR1vSR+Zg+Yp7iPfUujqbzEqsQJH+j7RpFIs30U/QY3ne8xa83gKYhAISjmD4Cyf5Rajm99yqh8LQV+il6Fe873uLXG0DTEADCMYxQgsXPR6lWP8VI5C0Zj0ciMW3ceMiTxSsm433He/x6A2gaqoDhCKaPYL6LPfVOy4+j6ein6A+873iTn28ATcIOIBxhTR/JTryen6DN9BFzBOEo1eqneO21d6m1td3TazUV7zveRC6tP7ADCEcwQgnZGE2HSuN9x5usG0Bmk3sbASAcwwglZOMoFZXG+443cQPofQSAACrKa6PpAFQHN4DeRgAIAAAqghtA76IIBAAAwDAEgAAAVyWmpjSep1/feCKhxNRUlVcEBB9HwIBNO7Qz439NslM73F4CAioxNaWO/n6dmZxcMLvXavLcVF+veFcX1byAg9gBBAC4ZiKV0pnJyQWTO+ZP+DgzOamJVMrllQLBQgAIAHBNbF7TZisI/MGpUwsmfNDSBXAWASB8gzwhIJias4LA1Xv3LhjvhvIUSl1Jp6c1MjKk5557VCMjQ0qnp6u4MriFHED4AnlCQLA1R6M60Nmp1Xv3zj12oLPTleDPpJzX4eEjeZo176FZc8CxAwhfIE8ICLaxREKbBgczHts0ODj3sw7nDQ8f0cDAhozgT5KSydMaGNig4eEjLq0M1WB8AJhKpXTdddeppqZGP/nJT9xeDvIgTwgIrvk3cisaG/X9++7L+FknCHReOj2teHyrMuf0WmYfi8d7OA4OMOMDwL/4i7/Q1Vdf7fYyYAN5QkDwjGcFf0Pd3XrfsmULbvjy5f9icUZHjy3Y+cs0o2RyTKOjx6q2JlSX0QHgE088oSeffFK7d+92eymwycoTms+tPCEA5WsIhdRUX7/gRm7+DV9Tfb0aQiGXVxos58695Oh18B9ji0BeeeUVPfDAA/r617+uSy+91O3lwKZ8eULsAAL+FA2HFe/q0kQqtSCFozka1dHubjWEQhR3OWzp0qscvQ7+Y+QO4MzMjLq7u/WRj3xEN954o+2vS6VSSiaTGR+oHvKEgGCKhsN583dj0SjBXwW0tKxRJBKTVJPnihpFIs1qaVlTzWWhigIVAD744IOqqakp+PH888/roYce0sTEhLZv317S8+/atUvRaHTuo7m5uUL/JchGnhAAOKe2tk4dHXsufJYdBM5+3tHRq9rauqquC9UTqADwk5/8pH7+858X/FixYoW+853v6Ic//KFCoZAuueQSvfWtb5Uk3Xjjjdq8eXPe59++fbsSicTcx9jYWLX+04xHnhAAOKutbb02bjykSOQtGY9HIjFt3HiIPoABF6gcwCuuuEJXXHFF0ev+8R//UZ/5zGfmPn/xxRd122236atf/apWrVqV9+tCoZBCBBiuIE8IAJzX1rZeK1eu0+joMZ0795KWLr1KLS1r2PkzQKACQLuWLVuW8fnSpUslSddcc41isZgbS4IN0XA4b4BH/z+g8hJTUzlvwqTZNA1uwvyptrZOra3tbi8DVRaoI2AAQGVY4xhvzlFwNZZI6Oa+PnX09zOTG/AJAkBJy5cv18zMjK677jq3lwIAnsQ4RiBYCAABAEUxjhEIFgJAwCWJqam8bWvGEwmO0uA5jGMEgoMAEHAB+VTwK8YxAsFAAAi4gHwq+FW+cYxM4gH8hQAQgeOHo1XyqeBHjGMEgoMAEIHip6NV8qlglxduahjHCAQLASACxW9Hq+RT5Wc36PFCcFRMOWv0yk0N4xiBYCEARKD47WiVfKrc7AY9p157zRPBUSHlBnBeuamxxjEezbE7bY1jjHd1MQkkSzo9rZGRIT333KMaGRlSOj3t9pIASQSACCC/HK2ST5Wf3aDnlXPnPBEcOfHfkm+NXrqpiYbDeb9PLBol+MsyPHxEvb3LtX//Wh0+fLf271+r3t7lGh4+4vbSAAJABJPXj1bJpyrMbtBzUyzmmeCo3P+WQmv0y00NLhoePqKBgQ1KJsczHk8mT2tgYANBIFxHAIhA8vrRqtfyqYrlqE1NVf/vzW7Q44fgyIk1ev2mBhel09OKx7dKmsnxp7OPxeM9HAfDVQSACBw/HK16KZ/KTo5af3+Ha0GgnaDHD8FRuWv0+k0NLhodPbZg5y/TjJLJMY2OHqvamoBsBIAIFD8drXoln8pOjtrk5BmlUhNVWc98doMePwRH5azRDzc1uOjcuZccvQ6oBAJABIrXjlb9wE6OWnf3kKLRWFXXZTfo8UNwVM4a/XRTg1lLl17l6HVAJRAAIlC8dLTqJ8Vy1KLR5qqux27Q86Pxcc8HR+UGcNzU+E9LyxpFIjFJNXmuqFEk0qyWljXVXBaQgQAQgeOVo1W/8VIend2g58qlSz0fHJUbwHFT4z+1tXXq6Nhz4bPsIHD2846OXtXW1lV1XcB8l7i9AADekC9Hbai7W6pyDGgFPROp1IJg3gp6GkKhkq5zixNrjIbDef/cK03Nkamtbb02bjykeHxrRkFIJBJTR0ev2trWu7g6gAAQgBbmqB3o7NSmwcG548l13Z+o+jGw3aDHD8GRH9YI57W1rdfKles0OnpM5869pKVLr1JLyxp2/uAJBICA4XLlqFnHk9bjfX3t6u4+WvVCEJRvp3a4vQSj1dbWqbW13e1lAAuQAwgYzk6OWn19k0KhBpdXilIR/AHIhx1AwHB2ctQ+H9qhcJijSgAICgJAAEVz1MLVrgIBAFQUR8AAAACGIQAEAAAwDAEgAACAYQgAAQAADEMACAAAYBgCQAAAAMMQAAIAABiGABAAFmGHdnp+0sYO7XR7CQA8ikbQALAIVvDn9SAQUjo9rdHRYzp37iUtXXqVWlrWqLa2btHXAUFAAAgACKzh4SOKx7cqmRyfeywSiamjY4/a2taXfB0QFBwBAwACaXj4iAYGNmQEdZKUTJ7WwMAGDQ8fKek6IEgIAAEAgZNOTyse3yppJsefzj4Wj/foN7953dZ16fR0pZYKuIIAEAAQOKOjxxbs6GWaUTI5ph/96J9tXTc6eszpJQKuIgAEAATOuXMv2bru7Nn/z9HnA/yCABAAEDhLl15l67rGxmscfT7ALwgAAQCB09KyRpFITFJNnitqFIk066ab/out61pa1lRmoYBLCAABAIFTW1unjo49Fz7LDu5mP+/o6NUll7zJ1nX0A0TQEAACAAKprW29Nm48pEjkLRmPRyIxbdx4aK6/n93rgCChETQAILDa2tZr5cp1RSd82L0OCAoCQABAoNXW1qm1td2x64AgIAAEAJcwexaAWwgAAcAFzJ4F4CaKQACgypg9C8BtBIAAUEV2Z9QyexZAJREAAkAV2Z1R69XZs+n0tEZGhvTcc49qZGSIQBXwKaNzAB9//HH99V//tf7jP/5D4XBYN998s77+9a+7vSwAAWZ3pqwXZ8+StwgEh7E7gIcPH9amTZt077336t///d/1/e9/X3fffbfbywIQcHZnynpt9ix5i0CwGLkD+Jvf/EZbt27VZz/7Wd1///1zj7e1tbm4KgAmsGbUJpOnlTsPsEaRSMxTs2eL5y3WKB7v0cqV62hjA/iEkTuAzz77rE6fPq3a2lq9+93v1lVXXaU/+qM/0k9/+tOCX5dKpZRMJjM+AKAUdmfUeimQ8nveIoCFjAwAT5w4IUn6b//tv+m//tf/qm9961tqbGxUe3u7fvWrX+X9ul27dikajc59NDc3V2vJAALEb7Nn/Zy3CCC3QB0BP/jgg/q7v/u7gtf8/Oc/VzqdliT91V/9le644w5J0r59+xSLxfS1r31Nf/qnf5rza7dv365t27bNfZ5MJgkCASyKn2bP+jVvEUB+gQoAP/nJT6q7u7vgNStWrNBLL83epc7P+QuFQlqxYoVOnTqV92tDoZBCoZAjawUAv8ye9WPeIoDCAhUAXnHFFbriiiuKXnfDDTcoFArp+PHjev/73y9JeuONN3Ty5Em1tLRUepkA4CtW3uLAwAbN5inODwK9mbcIoDAjcwAjkYg+8pGPaMeOHXryySd1/PhxffSjH5Uk3XnnnS6vDgC8x295iwAKC9QOYCk++9nP6pJLLtGmTZt0/vx5rVq1St/5znfU2Njo9tIAwJP8lLcIoDBjA8Df+q3f0u7du7V79263lwIAvuGXvEUAhRl5BAwAAGAyAkAAAADDEAACAAAYhgAQAADAMMYWgQDAfOn0NNWtAIxBAAjAeMPDRxSPb1UyOT73WCQSU0fHHvrbAQgkjoABGG14+IgGBjZkBH+SlEye1sDABg0PH3FpZQBQOQSAAIyVTk8rHt+q3PNtZx+Lx3uUTk9XdV0AUGkcAZdhZmb2F0QylXJ5JUBlTSlZ0edPakpTSiqpqYp+H4v13zM6emzBzl+mGSWTY/o//yeulpY1VVkbgMpLpWbfA6zf4yaqmTH5v75M4+Pjam5udnsZAABgEcbGxhSLxdxehisIAMuQTqf14osvqqGhQTU1NW4vx3XJZFLNzc0aGxtTJBJxezmBwt9t5fB3W1n8/VYOf7eLNzMzo4mJCV199dWqrTUzG44j4DLU1tYae+dQSCQS4c2oQvi7rRz+biuLv9/K4e92caLRqNtLcJWZYS8AAIDBCAABAAAMQwAIx4RCIe3YsUOhUMjtpQQOf7eVw99tZfH3Wzn83aIcFIEAAAAYhh1AAAAAwxAAAgAAGIYAEAAAwDAEgAAAAIYhAERFpVIpXXfddaqpqdFPfvITt5cTCCdPntT999+v1tZWLVmyRNdcc4127Nih119/3e2l+dLnP/95LV++XOFwWKtWrdK//du/ub0k39u1a5duuukmNTQ0qKmpSR/60Id0/Phxt5cVSH/7t3+rmpoa9fT0uL0U+AwBICrqL/7iL3T11Ve7vYxAef7555VOp/XII4/oZz/7mT73uc/pC1/4gv7yL//S7aX5zle/+lVt27ZNO3bs0LPPPqt3vetduu2223TmzBm3l+ZrR48e1ZYtW/TMM8/oqaee0htvvKFbb71Vk5OTbi8tUH70ox/pkUce0Tvf+U63lwIfog0MKuaJJ57Qtm3bdPjwYb397W/X//pf/0vXXXed28sKpM9+9rN6+OGHdeLECbeX4iurVq3STTfdpH/6p3+SNDvfu7m5WR//+Mf14IMPury64Hj11VfV1NSko0eP6vd///fdXk4gnDt3Ttdff73++Z//WZ/5zGd03XXXqbe31+1lwUfYAURFvPLKK3rggQd04MABXXrppW4vJ/ASiYQuu+wyt5fhK6+//rp+/OMf65Zbbpl7rLa2Vrfccot++MMfuriy4EkkEpLEv1EHbdmyRbfffnvGv1+gFJe4vQAEz8zMjLq7u/WRj3xEN954o06ePOn2kgLthRde0EMPPaTdu3e7vRRf+cUvfqHp6WldeeWVGY9feeWVev75511aVfCk02n19PRo9erVesc73uH2cgLhK1/5ip599ln96Ec/cnsp8DF2AGHbgw8+qJqamoIfzz//vB566CFNTExo+/btbi/ZV+z+/c53+vRpdXR06M4779QDDzzg0sqB/LZs2aKf/vSn+spXvuL2UgJhbGxMW7du1Ze//GWFw2G3lwMfIwcQtr366qv65S9/WfCaFStWaOPGjfrmN7+pmpqaucenp6dVV1ene+65R/v376/0Un3J7t/vm970JknSiy++qPb2dr33ve9VX1+famu5nyvF66+/rksvvVSHDh3Shz70obnHN2/erNdee02PPfaYe4sLiI997GN67LHH9N3vfletra1uLycQvv71r6uzs1N1dXVzj01PT6umpka1tbVKpVIZfwbkQwAIx506dUrJZHLu8xdffFG33XabDh06pFWrVikWi7m4umA4ffq01q5dqxtuuEH9/f284S/SqlWr9J73vEcPPfSQpNnjymXLluljH/sYRSBlmJmZ0cc//nENDg5qaGhIb3vb29xeUmBMTExodHQ047F7771XK1eu1Kc+9SmO2WEbOYBw3LJlyzI+X7p0qSTpmmuuIfhzwOnTp9Xe3q6Wlhbt3r1br7766tyf/c7v/I6LK/Ofbdu2afPmzbrxxhv1nve8R729vZqcnNS9997r9tJ8bcuWLTp48KAee+wxNTQ06OWXX5YkRaNRLVmyxOXV+VtDQ8OCIK++vl6XX345wR9KQgAI+MxTTz2lF154QS+88MKCgJoN/dJ8+MMf1quvvqpPf/rTevnll3XdddcpHo8vKAxBaR5++GFJUnt7e8bj+/btU3d3d/UXBGABjoABAAAMQ9Y4AACAYQgAAQAADEMACAAAYBgCQAAAAMMQAAIAABiGABAAAMAwBIAAAACGIQAEAAAwDAEgAACAYQgAAQAADEMACAAAYBgCQAAAAMMQAAIAABiGABAAAMAwBIAAAACGIQAEAAAwDAEgAACAYQgAAQAADEMACAAAYBgCQAAAAMMQAAIAABiGABAAAMAwBIAAAACGIQAEAAAwDAEgAACAYQgAAQAADEMACAAAYBgCQAAAAMMQAAIAABiGABAAAMAwBIAAAACG+f8BJfL650eSFTYAAAAASUVORK5CYII=' width=640.0/>\n",
       "            </div>\n",
       "        "
      ],
      "text/plain": [
       "Canvas(toolbar=Toolbar(toolitems=[('Home', 'Reset original view', 'home', 'home'), ('Back', 'Back to previous …"
      ]
     },
     "metadata": {},
     "output_type": "display_data"
    },
    {
     "name": "stdout",
     "output_type": "stream",
     "text": [
      "Training error: 0.0000\n",
      "Testing error:  0.0533\n",
      "NOTE: You should get something similar to:\n",
      "Training error: 0.0000\n",
      "Testing error:  0.0467 (may be slightly different)\n"
     ]
    }
   ],
   "source": [
    "def visclassifier(fun,xTr,yTr,w=None,b=0):\n",
    "    \"\"\"\n",
    "    visualize decision boundary\n",
    "    Define the symbols and colors we'll use in the plots later\n",
    "    \"\"\"\n",
    "\n",
    "    yTr = np.array(yTr).flatten()\n",
    "    w = np.array(w).flatten()\n",
    "\n",
    "    symbols = [\"ko\",\"kx\"]\n",
    "    marker_symbols = ['o', 'x']\n",
    "    mycolors = [[0.5, 0.5, 1], [1, 0.5, 0.5]]\n",
    "    # get the unique values from labels array\n",
    "    classvals = np.unique(yTr)\n",
    "\n",
    "    plt.figure()\n",
    "\n",
    "    # return 300 evenly spaced numbers over this interval\n",
    "    res=300\n",
    "    xrange = np.linspace(min(xTr[:, 0]), max(xTr[:, 0]),res)\n",
    "    yrange = np.linspace(min(xTr[:, 1]), max(xTr[:, 1]),res)\n",
    "    \n",
    "    # repeat this matrix 300 times for both axes\n",
    "    pixelX = repmat(xrange, res, 1)\n",
    "    pixelY = repmat(yrange, res, 1).T\n",
    "\n",
    "    \n",
    "    xTe = np.array([pixelX.flatten(), pixelY.flatten()]).T\n",
    "\n",
    "    # test all of these points on the grid\n",
    "    testpreds = fun(xTe)\n",
    "    \n",
    "    # reshape it back together to make our grid\n",
    "    Z = testpreds.reshape(res, res)\n",
    "    # Z[0,0] = 1 # optional: scale the colors correctly\n",
    "    \n",
    "    # fill in the contours for these predictions\n",
    "    plt.contourf(pixelX, pixelY, np.sign(Z), colors=mycolors)\n",
    "\n",
    "    # creates x's and o's for training set\n",
    "    for idx, c in enumerate(classvals):\n",
    "        plt.scatter(xTr[yTr == c,0],\n",
    "            xTr[yTr == c,1],\n",
    "            marker=marker_symbols[idx],\n",
    "            color='k'\n",
    "            )\n",
    "    \n",
    "    if w != []:\n",
    "        alpha = -1 * b / (w ** 2).sum()\n",
    "        plt.quiver(w[0] * alpha, w[1] * alpha,\n",
    "            w[0], w[1], linewidth=2, color=[0,1,0])\n",
    "\n",
    "    plt.axis('tight')\n",
    "    # shows figure and blocks\n",
    "    plt.show()\n",
    "\n",
    "tree=cart(xTrSpiral,yTrSpiral) # compute tree on training data \n",
    "visclassifier(lambda X:evaltree(tree,X),xTrSpiral,yTrSpiral)\n",
    "print(\"Training error: %.4f\" % np.mean(np.sign(evaltree(tree,xTrSpiral)) != yTrSpiral))\n",
    "print(\"Testing error:  %.4f\" % np.mean(np.sign(evaltree(tree,xTeSpiral)) != yTeSpiral))\n",
    "print(\"NOTE: You should get something similar to:\")\n",
    "print(\"Training error: 0.0000\")\n",
    "print(\"Testing error:  0.0467 (may be slightly different)\")"
   ]
  },
  {
   "cell_type": "code",
   "execution_count": null,
   "metadata": {
    "deletable": false,
    "editable": false,
    "nbgrader": {
     "cell_type": "code",
     "checksum": "52ddf096d8a2a6e71cb52734e467d8b8",
     "grade": false,
     "grade_id": "cell-0023f5ab24eedcf8",
     "locked": true,
     "schema_version": 3,
     "solution": false,
     "task": false
    }
   },
   "outputs": [],
   "source": [
    "def onclick_cart(event):\n",
    "    \"\"\"\n",
    "    Visualize cart, including new point\n",
    "    \"\"\"\n",
    "    global xTraining,labels\n",
    "    # create position vector for new point\n",
    "    pos=np.array([[event.xdata,event.ydata]]) \n",
    "    if event.key == 'shift': # add positive point\n",
    "        color='or'\n",
    "        label=1\n",
    "    else: # add negative point\n",
    "        color='ob'\n",
    "        label=-1    \n",
    "    xTraining = np.concatenate((xTraining,pos), axis = 0)\n",
    "    labels.append(label);\n",
    "    marker_symbols = ['o', 'x']\n",
    "    classvals = np.unique(labels)\n",
    "        \n",
    "    mycolors = [[0.5, 0.5, 1], [1, 0.5, 0.5]]\n",
    "    \n",
    "    # return 300 evenly spaced numbers over this interval\n",
    "    res=300\n",
    "    xrange = np.linspace(0, 1,res)\n",
    "    yrange = np.linspace(0, 1,res)\n",
    "\n",
    "    \n",
    "    # repeat this matrix 300 times for both axes\n",
    "    pixelX = repmat(xrange, res, 1)\n",
    "    pixelY = repmat(yrange, res, 1).T\n",
    "\n",
    "    xTe = np.array([pixelX.flatten(), pixelY.flatten()]).T\n",
    "\n",
    "    # get decision tree\n",
    "    tree=cart(xTraining,np.array(labels).flatten())\n",
    "    fun = lambda X:evaltree(tree,X)\n",
    "    # test all of these points on the grid\n",
    "    testpreds = fun(xTe)\n",
    "    \n",
    "    # reshape it back together to make our grid\n",
    "    Z = testpreds.reshape(res, res)\n",
    "    # Z[0,0] = 1 # optional: scale the colors correctly\n",
    "    \n",
    "    plt.cla()    \n",
    "    plt.xlim((0,1))\n",
    "    plt.ylim((0,1))\n",
    "    # fill in the contours for these predictions\n",
    "    plt.contourf(pixelX, pixelY, np.sign(Z), colors=mycolors)\n",
    "    \n",
    "    for idx, c in enumerate(classvals):\n",
    "        plt.scatter(xTraining[labels == c,0],\n",
    "            xTraining[labels == c,1],\n",
    "            marker=marker_symbols[idx],\n",
    "            color='k'\n",
    "            )\n",
    "    plt.show()\n",
    "    \n",
    "plt.ion()\n",
    "xTraining= np.array([[5,6]])\n",
    "labels = [1]\n",
    "fig = plt.figure()\n",
    "plt.xlim(0,1)\n",
    "plt.ylim(0,1)\n",
    "plt.title('Use shift-click to add negative points.')\n",
    "# plt.connect('button_press_event', onclick_cart)\n",
    "cid = fig.canvas.mpl_connect('button_press_event', onclick_cart)\n",
    "plt.show()"
   ]
  },
  {
   "cell_type": "markdown",
   "metadata": {
    "deletable": false,
    "editable": false,
    "nbgrader": {
     "cell_type": "markdown",
     "checksum": "12fdfb699ed6db478e2a2ec6d31496fb",
     "grade": false,
     "grade_id": "cell-9f203d5c35d17423",
     "locked": true,
     "schema_version": 3,
     "solution": false,
     "task": false
    }
   },
   "source": [
    "<h2>Random Forests</h2>\n",
    "<p>CART trees are known to be high variance classifiers\n",
    "(if trained to full depth).\n",
    "An effective way to prevent overfitting is to use <b>Bagging</b>.\n",
    "Implement the function <code>forest</code>,\n",
    "which builds a forest of regression trees.\n",
    "Each tree should be built using training data\n",
    "drawn by randomly sampling $n$ examples\n",
    "from the training data with replacement.\n",
    "Do not randomly sample features.\n",
    "The function should output a list of trees.</p>"
   ]
  },
  {
   "cell_type": "code",
   "execution_count": 90,
   "metadata": {
    "deletable": false,
    "nbgrader": {
     "cell_type": "code",
     "checksum": "50849f154123b8b15f270deb963a2417",
     "grade": false,
     "grade_id": "cell-f8a92665c255c104",
     "locked": false,
     "schema_version": 3,
     "solution": true,
     "task": false
    }
   },
   "outputs": [],
   "source": [
    "def forest(xTr, yTr, m, maxdepth=np.inf):\n",
    "    \"\"\"Creates a random forest.\n",
    "    \n",
    "    Input:\n",
    "        xTr:      n x d matrix of data points\n",
    "        yTr:      n-dimensional vector of labels\n",
    "        m:        number of trees in the forest\n",
    "        maxdepth: maximum depth of tree\n",
    "        \n",
    "    Output:\n",
    "        trees: list of TreeNode decision trees of length m\n",
    "    \"\"\"\n",
    "    \n",
    "    n, d = xTr.shape\n",
    "    trees = []\n",
    "    \n",
    "    # YOUR CODE HERE\n",
    "    \n",
    "    for i in range(m):\n",
    "        # Randomly sample n examples from the training data with replacement\n",
    "        indices = np.random.choice(n, n, replace=True)\n",
    "        xTr_bootstrap = xTr[indices, :]\n",
    "        yTr_bootstrap = yTr[indices]\n",
    "        \n",
    "        # Use the cart function to build a tree on the bootstrap sample and append to the list of trees\n",
    "        tree = cart(xTr_bootstrap, yTr_bootstrap, maxdepth)\n",
    "        trees.append(tree)\n",
    "    \n",
    "    return trees"
   ]
  },
  {
   "cell_type": "markdown",
   "metadata": {
    "deletable": false,
    "editable": false,
    "nbgrader": {
     "cell_type": "markdown",
     "checksum": "579342c0bf08182b3eacbb8d589e525b",
     "grade": false,
     "grade_id": "cell-01fb3000253d168b",
     "locked": true,
     "schema_version": 3,
     "solution": false,
     "task": false
    }
   },
   "source": [
    "<p>Now implement the function <code>evalforest</code>, which should take as input a set of $m$ trees, a set of $n$ test inputs, and an $m$ dimensional weight vector. Each tree should be weighted by the corresponding weight. (For random forests you can define the weights to be $\\frac{1}{m}$ for all trees.</p>"
   ]
  },
  {
   "cell_type": "code",
   "execution_count": 84,
   "metadata": {
    "deletable": false,
    "nbgrader": {
     "cell_type": "code",
     "checksum": "251269c6ed314b7900529002cf2e74de",
     "grade": false,
     "grade_id": "cell-fb4677da9cfa542a",
     "locked": false,
     "schema_version": 3,
     "solution": true,
     "task": false
    }
   },
   "outputs": [],
   "source": [
    "def evalforest(trees, X, alphas=None):\n",
    "    \"\"\"Evaluates X using trees.\n",
    "    \n",
    "    Input:\n",
    "        trees:  list of TreeNode decision trees of length m\n",
    "        X:      n x d matrix of data points\n",
    "        alphas: m-dimensional weight vector\n",
    "        \n",
    "    Output:\n",
    "        pred: n-dimensional vector of predictions\n",
    "    \"\"\"\n",
    "    m = len(trees)\n",
    "    n,d = X.shape\n",
    "    if alphas is None:\n",
    "        alphas = np.ones(m) / len(trees)\n",
    "            \n",
    "    pred = np.zeros(n)\n",
    "    \n",
    "    # YOUR CODE HERE\n",
    "    # Aggregate predictions from each tree, weighted by alphas\n",
    "    for alpha, tree in zip(alphas, trees):\n",
    "        pred += alpha * evaltree(tree, X)\n",
    "        \n",
    "    return pred"
   ]
  },
  {
   "cell_type": "markdown",
   "metadata": {
    "deletable": false,
    "editable": false,
    "nbgrader": {
     "cell_type": "markdown",
     "checksum": "2d9944d659e149ec4172a1fcf90c0772",
     "grade": false,
     "grade_id": "cell-f4b15aac0a3f4d1b",
     "locked": true,
     "schema_version": 3,
     "solution": false,
     "task": false
    }
   },
   "source": [
    "<p>The following script visualizes the decision boundary of a random forest ensemble.</p>"
   ]
  },
  {
   "cell_type": "code",
   "execution_count": 93,
   "metadata": {
    "deletable": false,
    "editable": false,
    "nbgrader": {
     "cell_type": "code",
     "checksum": "89e110f32bf24d284e91aea57aabcfee",
     "grade": false,
     "grade_id": "cell-fce6ab17683fff14",
     "locked": true,
     "schema_version": 3,
     "solution": false,
     "task": false
    }
   },
   "outputs": [
    {
     "data": {
      "application/vnd.jupyter.widget-view+json": {
       "model_id": "f1ab21f56ab7428b83db836138a87ed2",
       "version_major": 2,
       "version_minor": 0
      },
      "image/png": "[encoded data removed]",
      "text/html": [
       "\n",
       "            <div style=\"display: inline-block;\">\n",
       "                <div class=\"jupyter-widgets widget-label\" style=\"text-align: center;\">\n",
       "                    Figure\n",
       "                </div>\n",
       "                <img src='data:image/png;base64,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' width=640.0/>\n",
       "            </div>\n",
       "        "
      ],
      "text/plain": [
       "Canvas(toolbar=Toolbar(toolitems=[('Home', 'Reset original view', 'home', 'home'), ('Back', 'Back to previous …"
      ]
     },
     "metadata": {},
     "output_type": "display_data"
    },
    {
     "name": "stdout",
     "output_type": "stream",
     "text": [
      "Training error: 0.0000\n",
      "Testing error:  0.0067\n"
     ]
    }
   ],
   "source": [
    "trees=forest(xTrSpiral,yTrSpiral,30) # compute tree on training data \n",
    "visclassifier(lambda X:evalforest(trees,X),xTrSpiral,yTrSpiral)\n",
    "print(\"Training error: %.4f\" % np.mean(np.sign(evalforest(trees,xTrSpiral)) != yTrSpiral))\n",
    "print(\"Testing error:  %.4f\" % np.mean(np.sign(evalforest(trees,xTeSpiral)) != yTeSpiral))"
   ]
  },
  {
   "cell_type": "markdown",
   "metadata": {
    "deletable": false,
    "editable": false,
    "nbgrader": {
     "cell_type": "markdown",
     "checksum": "240ad5b0621527e90f5f215d0e1b2506",
     "grade": false,
     "grade_id": "cell-aba5f94293c2e524",
     "locked": true,
     "schema_version": 3,
     "solution": false,
     "task": false
    }
   },
   "source": [
    "<p>The following script evaluates the test and training error of a random forest ensemble as we vary the number of trees.</p>"
   ]
  },
  {
   "cell_type": "code",
   "execution_count": 96,
   "metadata": {
    "deletable": false,
    "editable": false,
    "nbgrader": {
     "cell_type": "code",
     "checksum": "0738c12966adbfd61677c854a83ed7c7",
     "grade": false,
     "grade_id": "cell-a3d95218b61c5dfe",
     "locked": true,
     "schema_version": 3,
     "solution": false,
     "task": false
    }
   },
   "outputs": [
    {
     "name": "stdout",
     "output_type": "stream",
     "text": [
      "[0]training err = 0.0854\ttesting err = 0.1571\n",
      "[1]training err = 0.1281\ttesting err = 0.2429\n",
      "[2]training err = 0.0356\ttesting err = 0.1714\n",
      "[3]training err = 0.0534\ttesting err = 0.2429\n",
      "[4]training err = 0.0036\ttesting err = 0.1571\n",
      "[5]training err = 0.0142\ttesting err = 0.1857\n",
      "[6]training err = 0.0000\ttesting err = 0.1286\n",
      "[7]training err = 0.0000\ttesting err = 0.1714\n",
      "[8]training err = 0.0000\ttesting err = 0.1000\n",
      "[9]training err = 0.0000\ttesting err = 0.1429\n",
      "[10]training err = 0.0000\ttesting err = 0.1000\n",
      "[11]training err = 0.0000\ttesting err = 0.1286\n",
      "[12]training err = 0.0000\ttesting err = 0.0857\n",
      "[13]training err = 0.0000\ttesting err = 0.1000\n",
      "[14]training err = 0.0000\ttesting err = 0.0714\n",
      "[15]training err = 0.0000\ttesting err = 0.0857\n",
      "[16]training err = 0.0000\ttesting err = 0.0571\n",
      "[17]training err = 0.0000\ttesting err = 0.0714\n",
      "[18]training err = 0.0000\ttesting err = 0.0571\n",
      "[19]training err = 0.0000\ttesting err = 0.0714\n"
     ]
    },
    {
     "data": {
      "application/vnd.jupyter.widget-view+json": {
       "model_id": "b63cd76c2d894efcbd358c28f009cde4",
       "version_major": 2,
       "version_minor": 0
      },
      "image/png": "[encoded data removed]",
      "text/html": [
       "\n",
       "            <div style=\"display: inline-block;\">\n",
       "                <div class=\"jupyter-widgets widget-label\" style=\"text-align: center;\">\n",
       "                    Figure\n",
       "                </div>\n",
       "                <img src='data:image/png;base64,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' width=640.0/>\n",
       "            </div>\n",
       "        "
      ],
      "text/plain": [
       "Canvas(toolbar=Toolbar(toolitems=[('Home', 'Reset original view', 'home', 'home'), ('Back', 'Back to previous …"
      ]
     },
     "metadata": {},
     "output_type": "display_data"
    }
   ],
   "source": [
    "M=20 # max number of trees\n",
    "err_trB=[]\n",
    "err_teB=[]\n",
    "alltrees=forest(xTrIon,yTrIon,M)\n",
    "for i in range(M):\n",
    "    trees=alltrees[:i+1]\n",
    "    trErr = np.mean(np.sign(evalforest(trees,xTrIon)) != yTrIon)\n",
    "    teErr = np.mean(np.sign(evalforest(trees,xTeIon)) != yTeIon)\n",
    "    err_trB.append(trErr)\n",
    "    err_teB.append(teErr)\n",
    "    print(\"[%d]training err = %.4f\\ttesting err = %.4f\" % (i,trErr, teErr))\n",
    "\n",
    "plt.figure()\n",
    "line_tr, = plt.plot(range(M),err_trB,label=\"Training Error\")\n",
    "line_te, = plt.plot(range(M),err_teB,label=\"Testing error\")\n",
    "plt.title(\"Random Forest\")\n",
    "plt.legend(handles=[line_tr, line_te])\n",
    "plt.xlabel(\"# of trees\")\n",
    "plt.ylabel(\"error\")\n",
    "plt.show()\n",
    "# Your training error should converge"
   ]
  },
  {
   "cell_type": "code",
   "execution_count": null,
   "metadata": {
    "deletable": false,
    "editable": false,
    "nbgrader": {
     "cell_type": "code",
     "checksum": "7b4d3902787aa6127913458b110f9aab",
     "grade": false,
     "grade_id": "cell-40b0e860bbf15397",
     "locked": true,
     "schema_version": 3,
     "solution": false,
     "task": false
    }
   },
   "outputs": [],
   "source": [
    "def onclick_forest(event):\n",
    "    \"\"\"\n",
    "    Visualize forest, including new point\n",
    "    \"\"\"\n",
    "    global xTrain,yTrain,w,b,M\n",
    "    # create position vector for new point\n",
    "    pos=np.array([[event.xdata,event.ydata]]) \n",
    "    if event.key == 'shift': # add positive point\n",
    "        color='or'\n",
    "        label=1\n",
    "    else: # add negative point\n",
    "        color='ob'\n",
    "        label=-1    \n",
    "    xTrain = np.concatenate((xTrain,pos), axis = 0)\n",
    "    yTrain = np.append(yTrain, label)\n",
    "    marker_symbols = ['o', 'x']\n",
    "    classvals = np.unique(yTrain)\n",
    "        \n",
    "    w = np.array(w).flatten()\n",
    "    \n",
    "    mycolors = [[0.5, 0.5, 1], [1, 0.5, 0.5]]\n",
    "    \n",
    "    # return 300 evenly spaced numbers over this interval\n",
    "    res=300\n",
    "    xrange = np.linspace(0, 1,res)\n",
    "    yrange = np.linspace(0, 1,res)\n",
    "    \n",
    "    # repeat this matrix 300 times for both axes\n",
    "    pixelX = repmat(xrange, res, 1)\n",
    "    pixelY = repmat(yrange, res, 1).T\n",
    "\n",
    "    xTe = np.array([pixelX.flatten(), pixelY.flatten()]).T\n",
    "\n",
    "    # get forest\n",
    "    trees=forest(xTrain,yTrain,M)\n",
    "    fun = lambda X:evalforest(trees,X)\n",
    "    # test all of these points on the grid\n",
    "    testpreds = fun(xTe)\n",
    "    \n",
    "    # reshape it back together to make our grid\n",
    "    Z = testpreds.reshape(res, res)\n",
    "    # Z[0,0] = 1 # optional: scale the colors correctly\n",
    "    \n",
    "    plt.cla()    \n",
    "    plt.xlim((0,1))\n",
    "    plt.ylim((0,1))\n",
    "    # fill in the contours for these predictions\n",
    "    plt.contourf(pixelX, pixelY, np.sign(Z), colors=mycolors)\n",
    "    \n",
    "    for idx, c in enumerate(classvals):\n",
    "        plt.scatter(xTrain[yTrain == c,0],\n",
    "            xTrain[yTrain == c,1],\n",
    "            marker=marker_symbols[idx],\n",
    "            color='k'\n",
    "            )\n",
    "    plt.show()\n",
    "    \n",
    "        \n",
    "xTrain= np.array([[5,6]])\n",
    "b=yTrIon\n",
    "yTrain = np.array([1])\n",
    "w=xTrIon\n",
    "M=20\n",
    "\n",
    "fig = plt.figure()\n",
    "plt.xlim(0,1)\n",
    "plt.ylim(0,1)\n",
    "cid = fig.canvas.mpl_connect('button_press_event', onclick_forest)\n",
    "print('Note: there is strong delay between points')\n",
    "plt.title('Use shift-click to add negative points.')"
   ]
  },
  {
   "cell_type": "markdown",
   "metadata": {
    "deletable": false,
    "editable": false,
    "nbgrader": {
     "cell_type": "markdown",
     "checksum": "6a43e7907e81937d92a9e0a9295ba8f4",
     "grade": false,
     "grade_id": "cell-faa99e3970c2080c",
     "locked": true,
     "schema_version": 3,
     "solution": false,
     "task": false
    }
   },
   "source": [
    "<h2>Boosting</h2>\n",
    "\n",
    "<p>Another option to improve your decision trees is to build trees of small depth (e.g. only depth=3 or depth=4). These do not have high variance, but instead suffer from <b>high bias</b>. You can reduce the bias of a classifier with boosting. Implement the function <code>boosttree</code>, which applies Adaboost on your <code>cart</code> functions. You should be able to use the function <code>evalforest</code> to evaluate your boosted ensemble (provdided you pass on the weights correctly.)</p>"
   ]
  },
  {
   "cell_type": "code",
   "execution_count": 147,
   "metadata": {
    "deletable": false,
    "nbgrader": {
     "cell_type": "code",
     "checksum": "030ca99b525c9574d0a137a03d2709f7",
     "grade": false,
     "grade_id": "cell-6e4bec6d93833b06",
     "locked": false,
     "schema_version": 3,
     "solution": true,
     "task": false
    }
   },
   "outputs": [],
   "source": [
    "def boosttree(x,y,maxiter=100,maxdepth=2):\n",
    "    \"\"\"Learns a boosted decision tree.\n",
    "    \n",
    "    Input:\n",
    "        x:        n x d matrix of data points\n",
    "        y:        n-dimensional vector of labels\n",
    "        maxiter:  maximum number of trees\n",
    "        maxdepth: maximum depth of a tree\n",
    "        \n",
    "    Output:\n",
    "        forest: list of TreeNode decision trees of length m\n",
    "        alphas: m-dimensional weight vector\n",
    "        \n",
    "    (note, m is at most maxiter, but may be smaller,\n",
    "    as dictated by the Adaboost algorithm)\n",
    "    \"\"\"\n",
    "    assert np.allclose(np.unique(y), np.array([-1,1])); # the labels must be -1 and 1 \n",
    "    n,d = x.shape\n",
    "    weights = np.ones(n) / n\n",
    "    preds   = None\n",
    "    forest  = []\n",
    "    alphas  = []\n",
    "\n",
    "    # YOUR CODE HERE\n",
    "    for t in range(maxiter):       \n",
    "        # Use the cart function to build a tree on the bootstrap sample and append to the list of trees\n",
    "        tree = cart(x, y, depth=maxdepth, weights=weights)\n",
    "\n",
    "        # Make predictions with the weak classifier\n",
    "        pred = evaltree(tree, x)\n",
    "        \n",
    "        # Calculate the weighted error rate; note we use the weights directly here\n",
    "        err = np.sum(weights[np.sign(pred) != y])\n",
    "\n",
    "        # Compute alpha (the classifier weight)\n",
    "        alpha = 0.5 * np.log((1 - err) / max(err, 1e-16))\n",
    "        \n",
    "        # Update the weights; this is the weight update step you highlighted\n",
    "        weights *= np.exp(-alpha * pred * y)\n",
    "        weights /= 2 * np.sqrt(err * (1 - err))  # According to the formula provided\n",
    "\n",
    "        # Add the tree to the list of trees\n",
    "        forest.append(tree)\n",
    "        # Add the weight of the tree to the list of alphas\n",
    "        alphas.append(alpha)\n",
    "        \n",
    "        # If the error is 0 or the error is not improving stop the loop early\n",
    "        if err == 0 or err >= 0.5:\n",
    "            break\n",
    "        \n",
    "    \n",
    "    return forest, alphas"
   ]
  },
  {
   "cell_type": "code",
   "execution_count": 148,
   "metadata": {},
   "outputs": [
    {
     "data": {
      "text/plain": [
       "[<__main__.TreeNode at 0x23408518190>,\n",
       " <__main__.TreeNode at 0x234085183d0>,\n",
       " <__main__.TreeNode at 0x234085185d0>,\n",
       " <__main__.TreeNode at 0x23408518b50>,\n",
       " <__main__.TreeNode at 0x2340851a050>,\n",
       " <__main__.TreeNode at 0x23408518e10>,\n",
       " <__main__.TreeNode at 0x23408519110>,\n",
       " <__main__.TreeNode at 0x2340823be10>,\n",
       " <__main__.TreeNode at 0x234033a75d0>,\n",
       " <__main__.TreeNode at 0x234084f3ad0>]"
      ]
     },
     "execution_count": 148,
     "metadata": {},
     "output_type": "execute_result"
    }
   ],
   "source": [
    "alltrees,allalphas=boosttree(xTrIon,yTrIon,maxdepth=3,maxiter=M)\n",
    "alltrees"
   ]
  },
  {
   "cell_type": "markdown",
   "metadata": {
    "deletable": false,
    "editable": false,
    "nbgrader": {
     "cell_type": "markdown",
     "checksum": "97e9c1a6842a511a06bad2c3a15eb3ef",
     "grade": false,
     "grade_id": "cell-d9cacc62ecaf87cb",
     "locked": true,
     "schema_version": 3,
     "solution": false,
     "task": false
    }
   },
   "source": [
    "<p>The following script evaluates the test and training error of a boosted forest as we increase the number of trees.</p>"
   ]
  },
  {
   "cell_type": "code",
   "execution_count": 149,
   "metadata": {
    "deletable": false,
    "editable": false,
    "nbgrader": {
     "cell_type": "code",
     "checksum": "b77d7852105a15f0086c93e5c82a78a1",
     "grade": false,
     "grade_id": "cell-fde54aafd46b5993",
     "locked": true,
     "schema_version": 3,
     "solution": false,
     "task": false
    }
   },
   "outputs": [
    {
     "name": "stdout",
     "output_type": "stream",
     "text": [
      "[0] exp loss = 0.6229 training err = 0.1139\ttesting err = 0.2000\n",
      "[1] exp loss = 0.4709 training err = 0.0996\ttesting err = 0.1714\n",
      "[2] exp loss = 0.3901 training err = 0.0854\ttesting err = 0.2000\n",
      "[3] exp loss = 0.3073 training err = 0.0463\ttesting err = 0.1571\n",
      "[4] exp loss = 0.2419 training err = 0.0427\ttesting err = 0.1571\n",
      "[5] exp loss = 0.1960 training err = 0.0356\ttesting err = 0.1571\n",
      "[6] exp loss = 0.1722 training err = 0.0285\ttesting err = 0.1571\n",
      "[7] exp loss = 0.1699 training err = 0.0356\ttesting err = 0.1714\n",
      "[8] exp loss = 0.1657 training err = 0.0320\ttesting err = 0.1857\n",
      "[9] exp loss = 0.1664 training err = 0.0320\ttesting err = 0.1857\n",
      "[10] exp loss = 0.1664 training err = 0.0320\ttesting err = 0.1857\n",
      "[11] exp loss = 0.1664 training err = 0.0320\ttesting err = 0.1857\n",
      "[12] exp loss = 0.1664 training err = 0.0320\ttesting err = 0.1857\n",
      "[13] exp loss = 0.1664 training err = 0.0320\ttesting err = 0.1857\n",
      "[14] exp loss = 0.1664 training err = 0.0320\ttesting err = 0.1857\n",
      "[15] exp loss = 0.1664 training err = 0.0320\ttesting err = 0.1857\n",
      "[16] exp loss = 0.1664 training err = 0.0320\ttesting err = 0.1857\n",
      "[17] exp loss = 0.1664 training err = 0.0320\ttesting err = 0.1857\n",
      "[18] exp loss = 0.1664 training err = 0.0320\ttesting err = 0.1857\n",
      "[19] exp loss = 0.1664 training err = 0.0320\ttesting err = 0.1857\n"
     ]
    },
    {
     "data": {
      "application/vnd.jupyter.widget-view+json": {
       "model_id": "8e56b7bac8b84684b8ad537873de4284",
       "version_major": 2,
       "version_minor": 0
      },
      "image/png": "[encoded data removed]",
      "text/html": [
       "\n",
       "            <div style=\"display: inline-block;\">\n",
       "                <div class=\"jupyter-widgets widget-label\" style=\"text-align: center;\">\n",
       "                    Figure\n",
       "                </div>\n",
       "                <img src='data:image/png;base64,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' width=640.0/>\n",
       "            </div>\n",
       "        "
      ],
      "text/plain": [
       "Canvas(toolbar=Toolbar(toolitems=[('Home', 'Reset original view', 'home', 'home'), ('Back', 'Back to previous …"
      ]
     },
     "metadata": {},
     "output_type": "display_data"
    }
   ],
   "source": [
    "M=20 # max number of trees\n",
    "alltrees,allalphas=boosttree(xTrIon,yTrIon,maxdepth=3,maxiter=M)\n",
    "\n",
    "err_trB=[]\n",
    "loss_trB=[]\n",
    "err_teB=[]\n",
    "for i in range(M):\n",
    "    trees=alltrees[:i+1]\n",
    "    alphas=allalphas[:i+1]\n",
    "    trErr = np.mean(np.sign(evalforest(trees,xTrIon,alphas)) != yTrIon)\n",
    "    trLoss =np.mean(np.exp(-evalforest(trees,xTrIon,alphas)*yTrIon))\n",
    "    teErr = np.mean(np.sign(evalforest(trees,xTeIon,alphas)) != yTeIon)\n",
    "    err_trB.append(trErr)\n",
    "    err_teB.append(teErr)\n",
    "    loss_trB.append(trLoss)\n",
    "    print(\"[%d] exp loss = %.4f training err = %.4f\\ttesting err = %.4f\" % (i,trLoss,trErr, teErr))\n",
    "\n",
    "plt.figure()\n",
    "line_tr, = plt.plot(range(M),err_trB,label=\"Training Error\")\n",
    "line_te, = plt.plot(range(M),err_teB,label=\"Testing error\")\n",
    "line_trloss,=plt.plot(range(M),loss_trB,label='Exp. Loss')\n",
    "plt.title(\"Adaboost\")\n",
    "plt.legend(handles=[line_tr, line_te,line_trloss])\n",
    "plt.xlabel(\"# of trees\")\n",
    "plt.ylabel(\"error\")\n",
    "plt.show()\n",
    "# Your training error should converge very quickly"
   ]
  },
  {
   "cell_type": "code",
   "execution_count": 154,
   "metadata": {
    "deletable": false,
    "editable": false,
    "nbgrader": {
     "cell_type": "code",
     "checksum": "9a658fd6a0382a99a5d6c8bd765f7f25",
     "grade": false,
     "grade_id": "cell-412235795894022a",
     "locked": true,
     "schema_version": 3,
     "solution": false,
     "task": false
    }
   },
   "outputs": [
    {
     "data": {
      "application/vnd.jupyter.widget-view+json": {
       "model_id": "937c6243f70f4f988b08bedea094dcaf",
       "version_major": 2,
       "version_minor": 0
      },
      "image/png": "[encoded data removed]",
      "text/html": [
       "\n",
       "            <div style=\"display: inline-block;\">\n",
       "                <div class=\"jupyter-widgets widget-label\" style=\"text-align: center;\">\n",
       "                    Figure\n",
       "                </div>\n",
       "                <img src='data:image/png;base64,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' width=640.0/>\n",
       "            </div>\n",
       "        "
      ],
      "text/plain": [
       "Canvas(toolbar=Toolbar(toolitems=[('Home', 'Reset original view', 'home', 'home'), ('Back', 'Back to previous …"
      ]
     },
     "metadata": {},
     "output_type": "display_data"
    },
    {
     "name": "stdout",
     "output_type": "stream",
     "text": [
      "elapsed time: 0.14 seconds\n",
      "Training error: 0.5067\n",
      "Testing error:  0.5333\n"
     ]
    }
   ],
   "source": [
    "trees,alphas=boosttree(xTrSpiral,yTrSpiral,maxdepth=3,maxiter=20)\n",
    "visclassifier(lambda X:evalforest(trees,X,alphas),xTrSpiral,yTrSpiral)\n",
    "\n",
    "print(\"elapsed time: %.2f seconds\" % (t1-t0))\n",
    "print(\"Training error: %.4f\" % np.mean(np.sign(evalforest(trees,xTrSpiral,alphas)) != yTrSpiral))\n",
    "print(\"Testing error:  %.4f\" % np.mean(np.sign(evalforest(trees,xTeSpiral,alphas)) != yTeSpiral))"
   ]
  },
  {
   "cell_type": "code",
   "execution_count": null,
   "metadata": {
    "deletable": false,
    "editable": false,
    "nbgrader": {
     "cell_type": "code",
     "checksum": "e8010201ed3fe0e17162a3c6796f8302",
     "grade": false,
     "grade_id": "cell-e53ca9e4cded1a68",
     "locked": true,
     "schema_version": 3,
     "solution": false,
     "task": false
    }
   },
   "outputs": [],
   "source": [
    "xTrain= np.array([[5,6],[2,5]])\n",
    "yTrain = np.array([-1,1])\n",
    "fig = plt.figure()\n",
    "plt.xlim(0,1)\n",
    "plt.ylim(0,1)\n",
    "\n",
    "\n",
    "def onclick_boost(event):\n",
    "    \"\"\"\n",
    "    Visualize boosting, including new point\n",
    "    \"\"\"\n",
    "    global xTrain,yTrain\n",
    "    # create position vector for new point\n",
    "    pos=np.array([[event.xdata,event.ydata]]) \n",
    "    if event.key == 'shift': # add positive point\n",
    "        color='or'\n",
    "        label=1\n",
    "    else: # add negative point\n",
    "        color='ob'\n",
    "        label=-1    \n",
    "    xTrain = np.concatenate((xTrain,pos), axis = 0)\n",
    "    yTrain = np.append(yTrain, label)\n",
    "    marker_symbols = ['o', 'x']\n",
    "    classvals = np.unique(yTrain)\n",
    "            \n",
    "    mycolors = [[0.5, 0.5, 1], [1, 0.5, 0.5]]\n",
    "    \n",
    "    # return 300 evenly spaced numbers over this interval\n",
    "    res=300\n",
    "    xrange = np.linspace(0,1,res)\n",
    "    yrange = np.linspace(0,1,res)\n",
    "    \n",
    "    # repeat this matrix 300 times for both axes\n",
    "    pixelX = repmat(xrange, res, 1)\n",
    "    pixelY = repmat(yrange, res, 1).T\n",
    "    xTe = np.array([pixelX.flatten(), pixelY.flatten()]).T\n",
    "    \n",
    "    # get forest\n",
    "    forest,alphas=boosttree(xTrain,yTrain,maxdepth=3,maxiter=5)\n",
    "    if len(forest) > 0:\n",
    "        fun = lambda X: evalforest(forest,X,alphas)\n",
    "        # test all of these points on the grid\n",
    "        testpreds = fun(xTe)\n",
    "\n",
    "        # reshape it back together to make our grid\n",
    "        Z = testpreds.reshape(res, res)\n",
    "        Z[0,0] = 1 # optional: scale the colors correctly\n",
    "\n",
    "        plt.cla()    \n",
    "        plt.xlim((0,1))\n",
    "        plt.ylim((0,1))\n",
    "        # fill in the contours for these predictions\n",
    "        plt.contourf(pixelX, pixelY, np.sign(Z), colors=mycolors)\n",
    "    \n",
    "    for idx, c in enumerate(classvals):\n",
    "        plt.scatter(xTrain[yTrain == c,0],\n",
    "            xTrain[yTrain == c,1],\n",
    "            marker=marker_symbols[idx],\n",
    "            color='k'\n",
    "            )\n",
    "    plt.show()\n",
    "    \n",
    "cid = fig.canvas.mpl_connect('button_press_event', onclick_boost)\n",
    "plt.title('Use shift-click to add negative points.')"
   ]
  },
  {
   "cell_type": "code",
   "execution_count": null,
   "metadata": {
    "deletable": false,
    "editable": false,
    "nbgrader": {
     "cell_type": "code",
     "checksum": "bf133bec53248e1c4b109008b0176fd7",
     "grade": true,
     "grade_id": "sqsplit_test2",
     "locked": true,
     "points": 5,
     "schema_version": 3,
     "solution": false,
     "task": false
    }
   },
   "outputs": [],
   "source": [
    "# Do not delete, copy, paste, or alter these cells as this will cause the tests to fail automatically"
   ]
  },
  {
   "cell_type": "code",
   "execution_count": null,
   "metadata": {
    "deletable": false,
    "editable": false,
    "nbgrader": {
     "cell_type": "code",
     "checksum": "6f15115822db61acc056b34809f04431",
     "grade": true,
     "grade_id": "sqsplit_test3",
     "locked": true,
     "points": 5,
     "schema_version": 3,
     "solution": false,
     "task": false
    }
   },
   "outputs": [],
   "source": [
    "# Do not delete, copy, paste, or alter these cells as this will cause the tests to fail automatically"
   ]
  },
  {
   "cell_type": "code",
   "execution_count": null,
   "metadata": {
    "deletable": false,
    "editable": false,
    "nbgrader": {
     "cell_type": "code",
     "checksum": "b352ab031e5573e0e9ca02f9bc8bdcd2",
     "grade": true,
     "grade_id": "cart_test1",
     "locked": true,
     "points": 5,
     "schema_version": 3,
     "solution": false,
     "task": false
    }
   },
   "outputs": [],
   "source": [
    "# Do not delete, copy, paste, or alter these cells as this will cause the tests to fail automatically"
   ]
  },
  {
   "cell_type": "code",
   "execution_count": null,
   "metadata": {
    "deletable": false,
    "editable": false,
    "nbgrader": {
     "cell_type": "code",
     "checksum": "8c9d4d69ae8d2cdb8d900a1b72b989ab",
     "grade": true,
     "grade_id": "cart_test2",
     "locked": true,
     "points": 3,
     "schema_version": 3,
     "solution": false,
     "task": false
    }
   },
   "outputs": [],
   "source": [
    "# Do not delete, copy, paste, or alter these cells as this will cause the tests to fail automatically"
   ]
  },
  {
   "cell_type": "code",
   "execution_count": null,
   "metadata": {
    "deletable": false,
    "editable": false,
    "nbgrader": {
     "cell_type": "code",
     "checksum": "3c602df0600964c3ae42935dec071819",
     "grade": true,
     "grade_id": "cart_test3",
     "locked": true,
     "points": 3,
     "schema_version": 3,
     "solution": false,
     "task": false
    }
   },
   "outputs": [],
   "source": [
    "# Do not delete, copy, paste, or alter these cells as this will cause the tests to fail automatically"
   ]
  },
  {
   "cell_type": "code",
   "execution_count": null,
   "metadata": {
    "deletable": false,
    "editable": false,
    "nbgrader": {
     "cell_type": "code",
     "checksum": "700de9178b30f005d32dacffe28978aa",
     "grade": true,
     "grade_id": "evaltree_test1",
     "locked": true,
     "points": 3,
     "schema_version": 3,
     "solution": false,
     "task": false
    }
   },
   "outputs": [],
   "source": [
    "# Do not delete, copy, paste, or alter these cells as this will cause the tests to fail automatically"
   ]
  },
  {
   "cell_type": "code",
   "execution_count": null,
   "metadata": {
    "deletable": false,
    "editable": false,
    "nbgrader": {
     "cell_type": "code",
     "checksum": "990e464d7805ae5d63caad4c2a2337b9",
     "grade": true,
     "grade_id": "evaltree_test2",
     "locked": true,
     "points": 3,
     "schema_version": 3,
     "solution": false,
     "task": false
    }
   },
   "outputs": [],
   "source": [
    "# Do not delete, copy, paste, or alter these cells as this will cause the tests to fail automatically"
   ]
  },
  {
   "cell_type": "code",
   "execution_count": null,
   "metadata": {
    "deletable": false,
    "editable": false,
    "nbgrader": {
     "cell_type": "code",
     "checksum": "80289f05e067c134f2e8587e57624fd7",
     "grade": true,
     "grade_id": "forest_test1",
     "locked": true,
     "points": 3,
     "schema_version": 3,
     "solution": false,
     "task": false
    }
   },
   "outputs": [],
   "source": [
    "# Do not delete, copy, paste, or alter these cells as this will cause the tests to fail automatically"
   ]
  },
  {
   "cell_type": "code",
   "execution_count": null,
   "metadata": {
    "deletable": false,
    "editable": false,
    "nbgrader": {
     "cell_type": "code",
     "checksum": "89442130513598dda3251e333447a963",
     "grade": true,
     "grade_id": "bagging_test1",
     "locked": true,
     "points": 3,
     "schema_version": 3,
     "solution": false,
     "task": false
    }
   },
   "outputs": [],
   "source": [
    "# Do not delete, copy, paste, or alter these cells as this will cause the tests to fail automatically"
   ]
  },
  {
   "cell_type": "code",
   "execution_count": null,
   "metadata": {
    "deletable": false,
    "editable": false,
    "nbgrader": {
     "cell_type": "code",
     "checksum": "b1bce957599b3d0fcc9dc56bc7e97186",
     "grade": true,
     "grade_id": "bagging_test2",
     "locked": true,
     "points": 3,
     "schema_version": 3,
     "solution": false,
     "task": false
    }
   },
   "outputs": [],
   "source": [
    "# Do not delete, copy, paste, or alter these cells as this will cause the tests to fail automatically"
   ]
  },
  {
   "cell_type": "code",
   "execution_count": null,
   "metadata": {
    "deletable": false,
    "editable": false,
    "nbgrader": {
     "cell_type": "code",
     "checksum": "408e93ddeb1ab737078c59e6b9e9f309",
     "grade": true,
     "grade_id": "boosting_test1",
     "locked": true,
     "points": 3,
     "schema_version": 3,
     "solution": false,
     "task": false
    }
   },
   "outputs": [],
   "source": [
    "# Do not delete, copy, paste, or alter these cells as this will cause the tests to fail automatically"
   ]
  },
  {
   "cell_type": "markdown",
   "metadata": {
    "deletable": false,
    "editable": false,
    "nbgrader": {
     "cell_type": "markdown",
     "checksum": "48206f2fa4480b0a604e89905866620d",
     "grade": false,
     "grade_id": "cell-48581b14a6981e50",
     "locked": true,
     "schema_version": 3,
     "solution": false,
     "task": false
    }
   },
   "source": [
    "**Competition**: we ask you to improve the speed of evaltree and cart while keeping both functions accurate.\n",
    "    \n",
    "You will receive 3 points if your implemention as fast or faster than our slow solution on hidden data and 3 points if your implementation as fast or faster than our quick solution."
   ]
  },
  {
   "cell_type": "code",
   "execution_count": 1,
   "metadata": {
    "deletable": false,
    "nbgrader": {
     "cell_type": "code",
     "checksum": "e4115605a6b52f8af272d76da1611f73",
     "grade": false,
     "grade_id": "cell-618211b2d58e4ea7",
     "locked": false,
     "schema_version": 3,
     "solution": true,
     "task": false
    }
   },
   "outputs": [
    {
     "ename": "NameError",
     "evalue": "name 'np' is not defined",
     "output_type": "error",
     "traceback": [
      "\u001b[1;31m---------------------------------------------------------------------------\u001b[0m",
      "\u001b[1;31mNameError\u001b[0m                                 Traceback (most recent call last)",
      "Cell \u001b[1;32mIn[1], line 40\u001b[0m\n\u001b[0;32m     35\u001b[0m         pred[\u001b[38;5;241m~\u001b[39mgo_left] \u001b[38;5;241m=\u001b[39m evaltreecomp(root\u001b[38;5;241m.\u001b[39mright, xTe, right_idx)\n\u001b[0;32m     37\u001b[0m     \u001b[38;5;28;01mreturn\u001b[39;00m pred\n\u001b[1;32m---> 40\u001b[0m \u001b[38;5;28;01mdef\u001b[39;00m \u001b[38;5;21mcartcomp\u001b[39m(xTr,yTr,depth\u001b[38;5;241m=\u001b[39m\u001b[43mnp\u001b[49m\u001b[38;5;241m.\u001b[39minf,weights\u001b[38;5;241m=\u001b[39m\u001b[38;5;28;01mNone\u001b[39;00m):\n\u001b[0;32m     41\u001b[0m \u001b[38;5;250m    \u001b[39m\u001b[38;5;124;03m\"\"\"Builds a CART tree. Same as cart but designed to be as efficient as possible.\u001b[39;00m\n\u001b[0;32m     42\u001b[0m \u001b[38;5;124;03m    \u001b[39;00m\n\u001b[0;32m     43\u001b[0m \u001b[38;5;124;03m    The maximum tree depth is defined by \"maxdepth\" (maxdepth=2 means one split).\u001b[39;00m\n\u001b[1;32m   (...)\u001b[0m\n\u001b[0;32m     53\u001b[0m \u001b[38;5;124;03m        tree: root of decision tree\u001b[39;00m\n\u001b[0;32m     54\u001b[0m \u001b[38;5;124;03m    \"\"\"\u001b[39;00m\n\u001b[0;32m     55\u001b[0m     n,d \u001b[38;5;241m=\u001b[39m xTr\u001b[38;5;241m.\u001b[39mshape\n",
      "\u001b[1;31mNameError\u001b[0m: name 'np' is not defined"
     ]
    }
   ],
   "source": [
    "def evaltreecomp(root, xTe, idx=[]):\n",
    "    \"\"\"Evaluates xTe using decision tree root. Same as evaltree but designed to be as efficient as possible.\n",
    "    \n",
    "    Input:\n",
    "        root: TreeNode decision tree\n",
    "        xTe:  n x d matrix of data points\n",
    "        idx:  chosen indices, optional argument that might be helpful with implementation strategy\n",
    "    Output:\n",
    "        pred: n-dimensional vector of predictions\n",
    "    \"\"\"\n",
    "    assert root is not None\n",
    "    \n",
    "    # If idx is empty, initialize it to consider all indices\n",
    "    if len(idx) == 0:\n",
    "        idx = np.arange(xTe.shape[0])\n",
    "    \n",
    "    # Initialize prediction array\n",
    "    pred = np.zeros(len(idx))\n",
    "    \n",
    "    # If we reach a leaf node, return its prediction for all indices\n",
    "    if root.cutoff_id is None:\n",
    "        pred[:] = root.prediction\n",
    "        return pred\n",
    "    \n",
    "    # Determine which indices go left and which go right\n",
    "    go_left = xTe[idx, root.cutoff_id] <= root.cutoff_val\n",
    "    left_idx = idx[go_left]\n",
    "    right_idx = idx[~go_left]\n",
    "    \n",
    "    # Recursively evaluate left and right branches\n",
    "    if root.left is not None:\n",
    "        pred[go_left] = evaltreecomp(root.left, xTe, left_idx)\n",
    "    \n",
    "    if root.right is not None:\n",
    "        pred[~go_left] = evaltreecomp(root.right, xTe, right_idx)\n",
    "    \n",
    "    return pred\n",
    "\n",
    "\n",
    "def cartcomp(xTr,yTr,depth=np.inf,weights=None):\n",
    "    \"\"\"Builds a CART tree. Same as cart but designed to be as efficient as possible.\n",
    "    \n",
    "    The maximum tree depth is defined by \"maxdepth\" (maxdepth=2 means one split).\n",
    "    Each example can be weighted with \"weights\".\n",
    "\n",
    "    Args:\n",
    "        xTr:      n x d matrix of data\n",
    "        yTr:      n-dimensional vector\n",
    "        maxdepth: maximum tree depth\n",
    "        weights:  n-dimensional weight vector for data points\n",
    "\n",
    "    Returns:\n",
    "        tree: root of decision tree\n",
    "    \"\"\"\n",
    "    n,d = xTr.shape\n",
    "    if weights is None:\n",
    "        w = np.ones(n) / float(n)\n",
    "    else:\n",
    "        w = weights\n",
    "    \n",
    "    # YOUR CODE HERE\n",
    "    # No split or one data point\n",
    "    if depth == 0 or len(np.unique(yTr)) == 1:\n",
    "        return TreeNode(None, None, None, None, None, np.mean(yTr))\n",
    "    \n",
    "    # Find the best split feature\n",
    "    feature, cut, bestloss = sqsplit(xTr, yTr, w)\n",
    "\n",
    "    # No best feature or either set is empty after the split\n",
    "    if np.isinf(feature):\n",
    "        return TreeNode(None, None, None, None, None, np.mean(yTr))\n",
    "    \n",
    "    # Split the data\n",
    "    left_idx = xTr[:, feature] <= cut\n",
    "    right_idx = xTr[:, feature] > cut\n",
    "\n",
    "    # Either set is empty\n",
    "    if np.sum(left_idx) == 0 or np.sum(right_idx) == 0:\n",
    "        return TreeNode(None, None, None, None, None, np.mean(yTr))\n",
    "    \n",
    "    # Create the subtrees recursively\n",
    "    left_subtree = None if depth <= 1 else cart(xTr[left_idx], yTr[left_idx], depth - 1, w[left_idx])\n",
    "    right_subtree = None if depth <= 1 else cart(xTr[right_idx], yTr[right_idx], depth - 1, w[right_idx])\n",
    "\n",
    "    # If depth is exactly 1, we create a leaf node with the prediction\n",
    "    if depth == 1:\n",
    "        prediction = np.mean(yTr)\n",
    "        return TreeNode(None, None, None, None, None, prediction)\n",
    "\n",
    "    return TreeNode(left_subtree, right_subtree, None, feature, cut, None)"
   ]
  },
  {
   "cell_type": "code",
   "execution_count": 99,
   "metadata": {
    "deletable": false,
    "editable": false,
    "nbgrader": {
     "cell_type": "code",
     "checksum": "1ffd8258070ae12f9fd6ae07281cd591",
     "grade": false,
     "grade_id": "cell-25f260c3b553b9db",
     "locked": true,
     "schema_version": 3,
     "solution": false,
     "task": false
    }
   },
   "outputs": [],
   "source": [
    "t0 = time.time()\n",
    "root = cartcomp(xTrIon, yTrIon)\n",
    "t1 = time.time()\n",
    "\n",
    "repeat_factor = 20000\n",
    "xTeIonRepeated = np.repeat(xTeIon, repeat_factor, axis = 0)\n",
    "\n",
    "t2 = time.time()\n",
    "pred = evaltreecomp(root,xTeIonRepeated)\n",
    "t3 = time.time()"
   ]
  },
  {
   "cell_type": "code",
   "execution_count": null,
   "metadata": {
    "deletable": false,
    "editable": false,
    "nbgrader": {
     "cell_type": "code",
     "checksum": "2ec9468dc4118f0b6cd359d51cf05868",
     "grade": true,
     "grade_id": "competition_test1",
     "locked": true,
     "points": 3,
     "schema_version": 3,
     "solution": false,
     "task": false
    }
   },
   "outputs": [],
   "source": [
    "# Do not delete, copy, paste, or alter these cells as this will cause the tests to fail automatically"
   ]
  },
  {
   "cell_type": "code",
   "execution_count": null,
   "metadata": {
    "deletable": false,
    "editable": false,
    "nbgrader": {
     "cell_type": "code",
     "checksum": "17f45b55ec9a385b098f76839ffd86c0",
     "grade": true,
     "grade_id": "competition_test2",
     "locked": true,
     "points": 3,
     "schema_version": 3,
     "solution": false,
     "task": false
    }
   },
   "outputs": [],
   "source": [
    "# Do not delete, copy, paste, or alter these cells as this will cause the tests to fail automatically"
   ]
  }
 ],
 "metadata": {
  "kernelspec": {
   "display_name": "Python 3 (ipykernel)",
   "language": "python",
   "name": "python3"
  },
  "language_info": {
   "codemirror_mode": {
    "name": "ipython",
    "version": 3
   },
   "file_extension": ".py",
   "mimetype": "text/x-python",
   "name": "python",
   "nbconvert_exporter": "python",
   "pygments_lexer": "ipython3",
   "version": "3.11.4"
  }
 },
 "nbformat": 4,
 "nbformat_minor": 4
}
